{
 "cells": [
  {
   "cell_type": "code",
   "execution_count": 1,
   "metadata": {},
   "outputs": [
    {
     "name": "stderr",
     "output_type": "stream",
     "text": [
      "Using TensorFlow backend.\n"
     ]
    }
   ],
   "source": [
    "import numpy as np\n",
    "import pandas as pd\n",
    "import matplotlib.pyplot as plt\n",
    "\n",
    "from keras.models import Sequential\n",
    "from keras.layers import Conv2D, Dense, MaxPool2D, BatchNormalization, Activation, Flatten, Dropout\n",
    "\n",
    "%matplotlib inline"
   ]
  },
  {
   "cell_type": "code",
   "execution_count": 2,
   "metadata": {},
   "outputs": [],
   "source": [
    "# load train and test data\n",
    "train = pd.read_csv('../input/Fashion_MNIST/fashion-mnist_train.csv')\n",
    "test = pd.read_csv('../input/Fashion_MNIST/fashion-mnist_test.csv')"
   ]
  },
  {
   "cell_type": "code",
   "execution_count": 3,
   "metadata": {},
   "outputs": [
    {
     "data": {
      "text/html": [
       "<div>\n",
       "<style scoped>\n",
       "    .dataframe tbody tr th:only-of-type {\n",
       "        vertical-align: middle;\n",
       "    }\n",
       "\n",
       "    .dataframe tbody tr th {\n",
       "        vertical-align: top;\n",
       "    }\n",
       "\n",
       "    .dataframe thead th {\n",
       "        text-align: right;\n",
       "    }\n",
       "</style>\n",
       "<table border=\"1\" class=\"dataframe\">\n",
       "  <thead>\n",
       "    <tr style=\"text-align: right;\">\n",
       "      <th></th>\n",
       "      <th>label</th>\n",
       "      <th>pixel1</th>\n",
       "      <th>pixel2</th>\n",
       "      <th>pixel3</th>\n",
       "      <th>pixel4</th>\n",
       "      <th>pixel5</th>\n",
       "      <th>pixel6</th>\n",
       "      <th>pixel7</th>\n",
       "      <th>pixel8</th>\n",
       "      <th>pixel9</th>\n",
       "      <th>...</th>\n",
       "      <th>pixel775</th>\n",
       "      <th>pixel776</th>\n",
       "      <th>pixel777</th>\n",
       "      <th>pixel778</th>\n",
       "      <th>pixel779</th>\n",
       "      <th>pixel780</th>\n",
       "      <th>pixel781</th>\n",
       "      <th>pixel782</th>\n",
       "      <th>pixel783</th>\n",
       "      <th>pixel784</th>\n",
       "    </tr>\n",
       "  </thead>\n",
       "  <tbody>\n",
       "    <tr>\n",
       "      <th>0</th>\n",
       "      <td>0</td>\n",
       "      <td>0</td>\n",
       "      <td>0</td>\n",
       "      <td>0</td>\n",
       "      <td>0</td>\n",
       "      <td>0</td>\n",
       "      <td>0</td>\n",
       "      <td>0</td>\n",
       "      <td>9</td>\n",
       "      <td>8</td>\n",
       "      <td>...</td>\n",
       "      <td>103</td>\n",
       "      <td>87</td>\n",
       "      <td>56</td>\n",
       "      <td>0</td>\n",
       "      <td>0</td>\n",
       "      <td>0</td>\n",
       "      <td>0</td>\n",
       "      <td>0</td>\n",
       "      <td>0</td>\n",
       "      <td>0</td>\n",
       "    </tr>\n",
       "    <tr>\n",
       "      <th>1</th>\n",
       "      <td>1</td>\n",
       "      <td>0</td>\n",
       "      <td>0</td>\n",
       "      <td>0</td>\n",
       "      <td>0</td>\n",
       "      <td>0</td>\n",
       "      <td>0</td>\n",
       "      <td>0</td>\n",
       "      <td>0</td>\n",
       "      <td>0</td>\n",
       "      <td>...</td>\n",
       "      <td>34</td>\n",
       "      <td>0</td>\n",
       "      <td>0</td>\n",
       "      <td>0</td>\n",
       "      <td>0</td>\n",
       "      <td>0</td>\n",
       "      <td>0</td>\n",
       "      <td>0</td>\n",
       "      <td>0</td>\n",
       "      <td>0</td>\n",
       "    </tr>\n",
       "    <tr>\n",
       "      <th>2</th>\n",
       "      <td>2</td>\n",
       "      <td>0</td>\n",
       "      <td>0</td>\n",
       "      <td>0</td>\n",
       "      <td>0</td>\n",
       "      <td>0</td>\n",
       "      <td>0</td>\n",
       "      <td>14</td>\n",
       "      <td>53</td>\n",
       "      <td>99</td>\n",
       "      <td>...</td>\n",
       "      <td>0</td>\n",
       "      <td>0</td>\n",
       "      <td>0</td>\n",
       "      <td>0</td>\n",
       "      <td>63</td>\n",
       "      <td>53</td>\n",
       "      <td>31</td>\n",
       "      <td>0</td>\n",
       "      <td>0</td>\n",
       "      <td>0</td>\n",
       "    </tr>\n",
       "    <tr>\n",
       "      <th>3</th>\n",
       "      <td>2</td>\n",
       "      <td>0</td>\n",
       "      <td>0</td>\n",
       "      <td>0</td>\n",
       "      <td>0</td>\n",
       "      <td>0</td>\n",
       "      <td>0</td>\n",
       "      <td>0</td>\n",
       "      <td>0</td>\n",
       "      <td>0</td>\n",
       "      <td>...</td>\n",
       "      <td>137</td>\n",
       "      <td>126</td>\n",
       "      <td>140</td>\n",
       "      <td>0</td>\n",
       "      <td>133</td>\n",
       "      <td>224</td>\n",
       "      <td>222</td>\n",
       "      <td>56</td>\n",
       "      <td>0</td>\n",
       "      <td>0</td>\n",
       "    </tr>\n",
       "    <tr>\n",
       "      <th>4</th>\n",
       "      <td>3</td>\n",
       "      <td>0</td>\n",
       "      <td>0</td>\n",
       "      <td>0</td>\n",
       "      <td>0</td>\n",
       "      <td>0</td>\n",
       "      <td>0</td>\n",
       "      <td>0</td>\n",
       "      <td>0</td>\n",
       "      <td>0</td>\n",
       "      <td>...</td>\n",
       "      <td>0</td>\n",
       "      <td>0</td>\n",
       "      <td>0</td>\n",
       "      <td>0</td>\n",
       "      <td>0</td>\n",
       "      <td>0</td>\n",
       "      <td>0</td>\n",
       "      <td>0</td>\n",
       "      <td>0</td>\n",
       "      <td>0</td>\n",
       "    </tr>\n",
       "  </tbody>\n",
       "</table>\n",
       "<p>5 rows × 785 columns</p>\n",
       "</div>"
      ],
      "text/plain": [
       "   label  pixel1  pixel2  pixel3  pixel4  pixel5  pixel6  pixel7  pixel8  \\\n",
       "0      0       0       0       0       0       0       0       0       9   \n",
       "1      1       0       0       0       0       0       0       0       0   \n",
       "2      2       0       0       0       0       0       0      14      53   \n",
       "3      2       0       0       0       0       0       0       0       0   \n",
       "4      3       0       0       0       0       0       0       0       0   \n",
       "\n",
       "   pixel9    ...     pixel775  pixel776  pixel777  pixel778  pixel779  \\\n",
       "0       8    ...          103        87        56         0         0   \n",
       "1       0    ...           34         0         0         0         0   \n",
       "2      99    ...            0         0         0         0        63   \n",
       "3       0    ...          137       126       140         0       133   \n",
       "4       0    ...            0         0         0         0         0   \n",
       "\n",
       "   pixel780  pixel781  pixel782  pixel783  pixel784  \n",
       "0         0         0         0         0         0  \n",
       "1         0         0         0         0         0  \n",
       "2        53        31         0         0         0  \n",
       "3       224       222        56         0         0  \n",
       "4         0         0         0         0         0  \n",
       "\n",
       "[5 rows x 785 columns]"
      ]
     },
     "execution_count": 3,
     "metadata": {},
     "output_type": "execute_result"
    }
   ],
   "source": [
    "test.head()\n",
    "# train.shape"
   ]
  },
  {
   "cell_type": "code",
   "execution_count": 4,
   "metadata": {},
   "outputs": [
    {
     "name": "stdout",
     "output_type": "stream",
     "text": [
      "Xtrain shape:  (60000, 784)\n",
      "Ytrain shape:  (60000,)\n",
      "Xtest shape :  (10000, 784)\n",
      "Ytest shape :  (10000,)\n"
     ]
    }
   ],
   "source": [
    "# get X/Y train/test\n",
    "Xtrain = train.drop(columns='label')\n",
    "Ytrain = train['label']\n",
    "Xtest = test.drop(columns='label')\n",
    "Ytest = test['label']\n",
    "\n",
    "print('Xtrain shape: ', Xtrain.shape)\n",
    "print('Ytrain shape: ', Ytrain.shape)\n",
    "print('Xtest shape : ', Xtest.shape)\n",
    "print('Ytest shape : ', Ytest.shape)"
   ]
  },
  {
   "cell_type": "code",
   "execution_count": 5,
   "metadata": {},
   "outputs": [],
   "source": [
    "def reshape2fourD(x, w = 28, h = 28):\n",
    "    \"\"\"\n",
    "    Reshape X to 4d\n",
    "    ex:\n",
    "    (2000, 784) -> (2000, 28, 28, 1)\n",
    "    \"\"\"\n",
    "    x = x.astype(np.float32) / 255.\n",
    "    x = np.array(x)\n",
    "    \n",
    "    arr = np.zeros(shape=(x.shape[0], w, h))\n",
    "    \n",
    "    for i in range(x.shape[0]):\n",
    "        arr[i] = np.reshape(x[i], (w, h))\n",
    "    \n",
    "    return arr[..., np.newaxis]\n",
    "\n",
    "def y2indicator(y):\n",
    "    \"\"\"\n",
    "    Convert to indicator variable\n",
    "    example:\n",
    "    {1, 3, 2} -> {{0,1,0,0}, {0,0,0,1}, {0,0,1,0}}\n",
    "    \"\"\"\n",
    "    N = len(y)\n",
    "    ind = np.zeros((N,10))\n",
    "    for i in range(N):\n",
    "        ind[i, y[i]] = 1\n",
    "    return ind"
   ]
  },
  {
   "cell_type": "code",
   "execution_count": 6,
   "metadata": {},
   "outputs": [],
   "source": [
    "# reshape X and Ys\n",
    "Xtrain = reshape2fourD(Xtrain)\n",
    "Xtest = reshape2fourD(Xtest)\n",
    "\n",
    "Ytrain = y2indicator(Ytrain)\n",
    "Ytest = y2indicator(Ytest)"
   ]
  },
  {
   "cell_type": "code",
   "execution_count": 7,
   "metadata": {},
   "outputs": [
    {
     "name": "stdout",
     "output_type": "stream",
     "text": [
      "Xtrain shape:  (60000, 28, 28, 1)\n",
      "Ytrain shape:  (60000, 10)\n",
      "Xtest shape :  (10000, 28, 28, 1)\n",
      "Ytest shape :  (10000, 10)\n"
     ]
    }
   ],
   "source": [
    "print('Xtrain shape: ', Xtrain.shape)\n",
    "print('Ytrain shape: ', Ytrain.shape)\n",
    "print('Xtest shape : ', Xtest.shape)\n",
    "print('Ytest shape : ', Ytest.shape)"
   ]
  },
  {
   "cell_type": "code",
   "execution_count": 8,
   "metadata": {},
   "outputs": [],
   "source": [
    "# create model\n",
    "model = Sequential()\n",
    "model.add(Conv2D(input_shape = (28, 28, 1), filters=64, kernel_size= (3, 3), padding='same'))\n",
    "model.add(BatchNormalization())\n",
    "model.add(Activation('relu'))\n",
    "model.add(MaxPool2D(pool_size=(2, 2)))\n",
    "\n",
    "model.add(Conv2D(filters=128, kernel_size= (3, 3), padding='same'))\n",
    "model.add(BatchNormalization())\n",
    "model.add(Activation('relu'))\n",
    "model.add(MaxPool2D(pool_size=(2, 2)))\n",
    "\n",
    "model.add(Conv2D(filters=256, kernel_size= (3, 3), padding='same'))\n",
    "model.add(BatchNormalization())\n",
    "model.add(Activation('relu'))\n",
    "model.add(MaxPool2D(pool_size=(2, 2)))\n",
    "\n",
    "model.add(Flatten())\n",
    "model.add(Dense(2048, kernel_initializer='glorot_normal', bias_initializer='glorot_normal'))\n",
    "model.add(Activation('relu'))\n",
    "model.add(Dropout(0.2))\n",
    "\n",
    "model.add(Dense(2048, kernel_initializer='glorot_normal', bias_initializer='glorot_normal'))\n",
    "model.add(Activation('relu'))\n",
    "model.add(Dropout(0.2))\n",
    "\n",
    "model.add(Dense(10, kernel_initializer='glorot_normal', bias_initializer='glorot_normal', activation='softmax'))\n",
    "\n",
    "model.compile(optimizer='adam', loss='categorical_crossentropy', metrics=['accuracy'])"
   ]
  },
  {
   "cell_type": "code",
   "execution_count": 9,
   "metadata": {
    "scrolled": true
   },
   "outputs": [
    {
     "name": "stdout",
     "output_type": "stream",
     "text": [
      "Train on 60000 samples, validate on 10000 samples\n",
      "Epoch 1/15\n",
      "60000/60000 [==============================] - 520s 9ms/step - loss: 4.8577 - acc: 0.5780 - val_loss: 0.4799 - val_acc: 0.8347\n",
      "Epoch 2/15\n",
      "60000/60000 [==============================] - 517s 9ms/step - loss: 0.3550 - acc: 0.8702 - val_loss: 0.3355 - val_acc: 0.8696\n",
      "Epoch 3/15\n",
      "60000/60000 [==============================] - 516s 9ms/step - loss: 0.2759 - acc: 0.8994 - val_loss: 0.2648 - val_acc: 0.9006\n",
      "Epoch 4/15\n",
      "60000/60000 [==============================] - 518s 9ms/step - loss: 0.2397 - acc: 0.9122 - val_loss: 0.2260 - val_acc: 0.9137\n",
      "Epoch 5/15\n",
      "60000/60000 [==============================] - 515s 9ms/step - loss: 0.2085 - acc: 0.9234 - val_loss: 0.2862 - val_acc: 0.8916\n",
      "Epoch 6/15\n",
      "60000/60000 [==============================] - 515s 9ms/step - loss: 0.1867 - acc: 0.9309 - val_loss: 0.2323 - val_acc: 0.9138\n",
      "Epoch 7/15\n",
      "60000/60000 [==============================] - 516s 9ms/step - loss: 0.1659 - acc: 0.9388 - val_loss: 0.2270 - val_acc: 0.9180\n",
      "Epoch 8/15\n",
      "60000/60000 [==============================] - 515s 9ms/step - loss: 0.1514 - acc: 0.9448 - val_loss: 0.2149 - val_acc: 0.9209\n",
      "Epoch 9/15\n",
      "60000/60000 [==============================] - 515s 9ms/step - loss: 0.1396 - acc: 0.9484 - val_loss: 0.2392 - val_acc: 0.9105\n",
      "Epoch 10/15\n",
      "60000/60000 [==============================] - 516s 9ms/step - loss: 0.1194 - acc: 0.9566 - val_loss: 0.2491 - val_acc: 0.9180\n",
      "Epoch 11/15\n",
      "60000/60000 [==============================] - 522s 9ms/step - loss: 0.1130 - acc: 0.9588 - val_loss: 0.2333 - val_acc: 0.9221\n",
      "Epoch 12/15\n",
      "60000/60000 [==============================] - 515s 9ms/step - loss: 0.0994 - acc: 0.9631 - val_loss: 0.2540 - val_acc: 0.9218\n",
      "Epoch 13/15\n",
      "60000/60000 [==============================] - 529s 9ms/step - loss: 0.0900 - acc: 0.9668 - val_loss: 0.2752 - val_acc: 0.9147\n",
      "Epoch 14/15\n",
      "60000/60000 [==============================] - 519s 9ms/step - loss: 0.0811 - acc: 0.9697 - val_loss: 0.2693 - val_acc: 0.9167\n",
      "Epoch 15/15\n",
      "60000/60000 [==============================] - 526s 9ms/step - loss: 0.0703 - acc: 0.9741 - val_loss: 0.2528 - val_acc: 0.9252\n"
     ]
    }
   ],
   "source": [
    "r = model.fit(Xtrain, Ytrain, validation_data=(Xtest, Ytest), epochs=15, batch_size=256)"
   ]
  },
  {
   "cell_type": "code",
   "execution_count": 10,
   "metadata": {},
   "outputs": [
    {
     "data": {
      "image/png": "[encoded data removed]",
      "text/plain": [
       "<Figure size 432x288 with 1 Axes>"
      ]
     },
     "metadata": {},
     "output_type": "display_data"
    }
   ],
   "source": [
    "# plot some data\n",
    "plt.plot(r.history['loss'], label='loss')\n",
    "plt.plot(r.history['val_loss'], label='val_loss')\n",
    "plt.legend()\n",
    "plt.show()"
   ]
  },
  {
   "cell_type": "code",
   "execution_count": 11,
   "metadata": {},
   "outputs": [
    {
     "data": {
      "image/png": "[encoded data removed]",
      "text/plain": [
       "<Figure size 432x288 with 1 Axes>"
      ]
     },
     "metadata": {},
     "output_type": "display_data"
    }
   ],
   "source": [
    "# accuracies\n",
    "plt.plot(r.history['acc'], label='acc')\n",
    "plt.plot(r.history['val_acc'], label='val_acc')\n",
    "plt.legend()\n",
    "plt.show()"
   ]
  }
 ],
 "metadata": {
  "kernelspec": {
   "display_name": "Python 3",
   "language": "python",
   "name": "python3"
  },
  "language_info": {
   "codemirror_mode": {
    "name": "ipython",
    "version": 3
   },
   "file_extension": ".py",
   "mimetype": "text/x-python",
   "name": "python",
   "nbconvert_exporter": "python",
   "pygments_lexer": "ipython3",
   "version": "3.6.6"
  }
 },
 "nbformat": 4,
 "nbformat_minor": 2
}
