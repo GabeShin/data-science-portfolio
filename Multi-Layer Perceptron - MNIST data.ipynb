{
 "cells": [
  {
   "cell_type": "markdown",
   "metadata": {},
   "source": [
    "____\n",
    "# Multi-Layer Perceptron - MNIST Image Recognition\n",
    "_____\n",
    "\n",
    "In this notebook, we will build out a Multi Layer Perceptron model to try to classify hand written digits using TensorFlow."
   ]
  },
  {
   "cell_type": "code",
   "execution_count": 1,
   "metadata": {},
   "outputs": [],
   "source": [
    "import numpy as np\n",
    "import pandas as pd\n",
    "import matplotlib.pyplot as plt\n",
    "import tensorflow as tf\n",
    "%matplotlib inline"
   ]
  },
  {
   "cell_type": "markdown",
   "metadata": {},
   "source": [
    "## Data\n",
    "_____________\n",
    "We will be using the famous MNIST data set of [handwritten digits](http://yann.lecun.com/exdb/mnist/). \n",
    "\n",
    "The images which we will be working with are black and white images of size 28 x 28 pixels, or 784 pixels total. Our features will be the pixel values for each pixel. Either the pixel is \"white\" (blank with a 0), or there is some pixel value. \n",
    "\n",
    "We will try to correctly predict what number is written down based solely on the image data in the form of an array\n",
    "\n",
    "**Get the data**"
   ]
  },
  {
   "cell_type": "code",
   "execution_count": 2,
   "metadata": {},
   "outputs": [
    {
     "name": "stdout",
     "output_type": "stream",
     "text": [
      "WARNING:tensorflow:From <ipython-input-2-a248ba0195fe>:3: read_data_sets (from tensorflow.contrib.learn.python.learn.datasets.mnist) is deprecated and will be removed in a future version.\n",
      "Instructions for updating:\n",
      "Please use alternatives such as official/mnist/dataset.py from tensorflow/models.\n",
      "WARNING:tensorflow:From C:\\Users\\Gabe\\Anaconda3\\envs\\tensorflow\\lib\\site-packages\\tensorflow\\contrib\\learn\\python\\learn\\datasets\\mnist.py:260: maybe_download (from tensorflow.contrib.learn.python.learn.datasets.base) is deprecated and will be removed in a future version.\n",
      "Instructions for updating:\n",
      "Please write your own downloading logic.\n",
      "WARNING:tensorflow:From C:\\Users\\Gabe\\Anaconda3\\envs\\tensorflow\\lib\\site-packages\\tensorflow\\contrib\\learn\\python\\learn\\datasets\\mnist.py:262: extract_images (from tensorflow.contrib.learn.python.learn.datasets.mnist) is deprecated and will be removed in a future version.\n",
      "Instructions for updating:\n",
      "Please use tf.data to implement this functionality.\n",
      "Extracting /tmp/data/train-images-idx3-ubyte.gz\n",
      "WARNING:tensorflow:From C:\\Users\\Gabe\\Anaconda3\\envs\\tensorflow\\lib\\site-packages\\tensorflow\\contrib\\learn\\python\\learn\\datasets\\mnist.py:267: extract_labels (from tensorflow.contrib.learn.python.learn.datasets.mnist) is deprecated and will be removed in a future version.\n",
      "Instructions for updating:\n",
      "Please use tf.data to implement this functionality.\n",
      "Extracting /tmp/data/train-labels-idx1-ubyte.gz\n",
      "WARNING:tensorflow:From C:\\Users\\Gabe\\Anaconda3\\envs\\tensorflow\\lib\\site-packages\\tensorflow\\contrib\\learn\\python\\learn\\datasets\\mnist.py:110: dense_to_one_hot (from tensorflow.contrib.learn.python.learn.datasets.mnist) is deprecated and will be removed in a future version.\n",
      "Instructions for updating:\n",
      "Please use tf.one_hot on tensors.\n",
      "Extracting /tmp/data/t10k-images-idx3-ubyte.gz\n",
      "Extracting /tmp/data/t10k-labels-idx1-ubyte.gz\n",
      "WARNING:tensorflow:From C:\\Users\\Gabe\\Anaconda3\\envs\\tensorflow\\lib\\site-packages\\tensorflow\\contrib\\learn\\python\\learn\\datasets\\mnist.py:290: DataSet.__init__ (from tensorflow.contrib.learn.python.learn.datasets.mnist) is deprecated and will be removed in a future version.\n",
      "Instructions for updating:\n",
      "Please use alternatives such as official/mnist/dataset.py from tensorflow/models.\n"
     ]
    }
   ],
   "source": [
    "# Import MINST data\n",
    "from tensorflow.examples.tutorials.mnist import input_data\n",
    "mnist = input_data.read_data_sets(\"/tmp/data/\", one_hot=True)"
   ]
  },
  {
   "cell_type": "markdown",
   "metadata": {},
   "source": [
    "### Data Format\n",
    "\n",
    "The data is stored in a vector format, although the original data was a 2-dimensional matrix with values representing how much pigment was at a certain location."
   ]
  },
  {
   "cell_type": "code",
   "execution_count": 3,
   "metadata": {},
   "outputs": [
    {
     "name": "stdout",
     "output_type": "stream",
     "text": [
      "Size of:\n",
      "- Training-set:55000\n",
      "- Test-set:10000\n"
     ]
    }
   ],
   "source": [
    "print(\"Size of:\" )\n",
    "print(\"- Training-set:{}\".format(mnist.train.num_examples))\n",
    "print(\"- Test-set:{}\".format(mnist.test.num_examples))"
   ]
  },
  {
   "cell_type": "code",
   "execution_count": 4,
   "metadata": {},
   "outputs": [
    {
     "name": "stdout",
     "output_type": "stream",
     "text": [
      "Shape of each image is:  (784,)\n",
      "Label data is formatted:  [0. 0. 0. 0. 0. 0. 0. 1. 0. 0.]\n",
      "Shape of each label is:  (10,)\n"
     ]
    }
   ],
   "source": [
    "# how is data formatted? \n",
    "print('Shape of each image is: ', mnist.train.images[0].shape)\n",
    "\n",
    "print('Label data is formatted: ', mnist.train.labels[0])\n",
    "print('Shape of each label is: ', mnist.train.labels[0].shape)"
   ]
  },
  {
   "cell_type": "markdown",
   "metadata": {},
   "source": [
    "Each Image is an array has 784 items. Each item representing levels of grey of each pixel. Originally images are 28x28 pixel box. \n",
    "\n",
    "Each label data has 10 items, each item representing a number from 0 to 9. "
   ]
  },
  {
   "cell_type": "markdown",
   "metadata": {},
   "source": [
    "### Helper-function\n",
    "\n",
    "I think I'll make two help-function here.\n",
    "1. Image Plotting Function - This is helper function to plot 9 images on 3x3 grid, with the true and predicted classes below each images. \n",
    "2. Returning Number function - This takes the label data and returns the corresponding number."
   ]
  },
  {
   "cell_type": "code",
   "execution_count": 5,
   "metadata": {},
   "outputs": [],
   "source": [
    "def return_number(array):\n",
    "    return list(array).index(1)\n",
    "\n",
    "def plot_images(images, true_class, pred_class=None):\n",
    "    assert len(images) == len(true_class) == 9\n",
    "    \n",
    "    # Create figure with 3x3 sub-plots.\n",
    "    fig, axes = plt.subplots(3, 3)\n",
    "    fig.subplots_adjust(hspace=0.3, wspace=0.3)\n",
    "\n",
    "    for i, ax in enumerate(axes.flat):\n",
    "        # Plot image.\n",
    "        ax.imshow(images[i].reshape((28,28)), cmap='binary')\n",
    "\n",
    "        # Show true and predicted classes.\n",
    "        if pred_class is None:\n",
    "            xlabel = \"True: {0}\".format(return_number(true_class[i]))\n",
    "        else:\n",
    "            xlabel = \"True: {0}, Pred: {1}\".format(return_number(true_class[i]), return_number(cls_pred[i]))\n",
    "\n",
    "        # Show the classes as the label on the x-axis.\n",
    "        ax.set_xlabel(xlabel)\n",
    "        \n",
    "        # Remove ticks from the plot.\n",
    "        ax.set_xticks([])\n",
    "        ax.set_yticks([])\n",
    "    \n",
    "    # Ensure the plot is shown correctly with multiple plots\n",
    "    # in a single Notebook cell.\n",
    "    plt.show()\n",
    "    return"
   ]
  },
  {
   "cell_type": "code",
   "execution_count": 6,
   "metadata": {},
   "outputs": [
    {
     "data": {
      "image/png": "[encoded data removed]",
      "text/plain": [
       "<Figure size 432x288 with 9 Axes>"
      ]
     },
     "metadata": {},
     "output_type": "display_data"
    }
   ],
   "source": [
    "# Get the first images from the test-set.\n",
    "images = mnist.test.images[0:9]\n",
    "\n",
    "# Get the true classes for those images.\n",
    "true_class = mnist.test.labels[0:9]\n",
    "\n",
    "# Plot the images and labels using our helper-function above.\n",
    "plot_images(images=images, true_class=true_class)"
   ]
  },
  {
   "cell_type": "markdown",
   "metadata": {},
   "source": [
    "### Define Parameters\n",
    "Parameters\n",
    "* Learning Rate - How quickly to adjust the cost function.\n",
    "* Training Epochs - How many training cycles to go through\n",
    "* Batch Size - Size of the 'batches' of training data\n",
    "\n",
    "Network Parameters\n",
    "* n_hidden_1 - Number of neurons in the 1st layer\n",
    "* n_hidden_2 - Number of neurons in the 2nd layer\n",
    "* n_input - Input shape (not img shape: 28*28)\n",
    "* n_classes - Total number of classess (0 to 9 numeric numbers)\n",
    "* n_samples - Number of samples"
   ]
  },
  {
   "cell_type": "code",
   "execution_count": 7,
   "metadata": {},
   "outputs": [],
   "source": [
    "# Parameters\n",
    "learning_rate = 0.001\n",
    "training_epochs = 40\n",
    "batch_size = 100\n",
    "\n",
    "# Network Parameters\n",
    "n_hidden_1 = 256 \n",
    "n_hidden_2 = 256\n",
    "n_input = 784\n",
    "n_classes = 10\n",
    "n_samples = mnist.train.num_examples"
   ]
  },
  {
   "cell_type": "markdown",
   "metadata": {},
   "source": [
    "## MultiLayer Model\n",
    "____________\n",
    "\n",
    "Now let's build multi-layer perceptron model.\n",
    "This is the process we will follow!\n",
    "\n",
    "1. We will send the **input data array to the first hidden layer.**\n",
    "2. The data will get **weight attached to it** between layers and then sent to a node to **undergo an activation function (along with a Bias).** We will use [ReLU](https://en.wikipedia.org/wiki/Rectifier_(neural_networks)) activation function. (which essentially returns either x or zero).\n",
    "3. The data will move to second hidden layer and undergo the same process. \n",
    "4. Once the transformed data has reached the output layer, we will use a linear activation function with matrix multiplication.\n",
    "5. And then we will make cost and accuracy evaluation. \n",
    "\n",
    "We will **apply an optimzation function to lower the error.** We will use the [Adam Optimizer](http://arxiv.org/pdf/1412.6980v8.pdf).\n",
    "\n",
    "Let's START!"
   ]
  },
  {
   "cell_type": "code",
   "execution_count": 8,
   "metadata": {},
   "outputs": [],
   "source": [
    "# function for multi-layer perceptron\n",
    "def multilayer_perceptron(x, weights, biases):\n",
    "    '''\n",
    "    x : placeholder for Data Input\n",
    "    weights: dictionary of weights\n",
    "    biases: dicitionary of biases\n",
    "    '''\n",
    "    \n",
    "    # First Hidden layer with ReLU activation\n",
    "    # can be considered two steps\n",
    "    # step1 : x * wieght + biases\n",
    "    # step2 : ReLU(x * weight + biases) -> ReLU(x) : f(x) = max(0,x)\n",
    "    layer_1 = tf.add(tf.matmul(x, weights['h1']), biases['b1'])\n",
    "    layer_1 = tf.nn.relu(layer_1)\n",
    "    \n",
    "    # Second Hidden layer with ReLU activation\n",
    "    layer_2 = tf.add(tf.matmul(layer_1, weights['h2']), biases['b2'])\n",
    "    layer_2 = tf.nn.relu(layer_2)\n",
    "    \n",
    "    # Last Output layer with linear activation\n",
    "    out_layer = tf.matmul(layer_2, weights['out']) + biases['out']\n",
    "    \n",
    "    return out_layer"
   ]
  },
  {
   "cell_type": "markdown",
   "metadata": {},
   "source": [
    "### Weights and Bias\n",
    "\n",
    "We need to create two dictionaries containing the weight and bias objects for the model. We will use **tf.variable** to create the *variable*. \n",
    "\n",
    "tf.variable is a modificable tensor that lives in TensorFlow's graph of interactive operations. So it can be used and be modified by the computation. Documentation says:\n",
    "- A variable maintains state in the graph across calls to `run()`. You add a variable to the graph by constructing an instance of the class `Variable`.\n",
    "- The `Variable()` constructor requires an initial value for the variable, which can be a `Tensor` of any type and shape. The initial value defines the type and shape of the variable. After construction, the type and shape of the variable are fixed. The value can be changed using one of the assign methods.\n",
    "    \n",
    "We will use random_normal method to create the random values for our weights and biases."
   ]
  },
  {
   "cell_type": "code",
   "execution_count": 9,
   "metadata": {},
   "outputs": [],
   "source": [
    "weights = {\n",
    "    'h1': tf.Variable(tf.random_normal([n_input, n_hidden_1])),\n",
    "    'h2': tf.Variable(tf.random_normal([n_hidden_1, n_hidden_2])),\n",
    "    'out': tf.Variable(tf.random_normal([n_hidden_2, n_classes]))\n",
    "}"
   ]
  },
  {
   "cell_type": "code",
   "execution_count": 10,
   "metadata": {},
   "outputs": [],
   "source": [
    "biases = {\n",
    "    'b1': tf.Variable(tf.random_normal([n_hidden_1])),\n",
    "    'b2': tf.Variable(tf.random_normal([n_hidden_2])),\n",
    "    'out': tf.Variable(tf.random_normal([n_classes]))\n",
    "}"
   ]
  },
  {
   "cell_type": "code",
   "execution_count": 11,
   "metadata": {},
   "outputs": [],
   "source": [
    "# set placeholder for x and y\n",
    "x = tf.placeholder('float', [None, n_input])\n",
    "y = tf.placeholder('float', [None, n_classes])"
   ]
  },
  {
   "cell_type": "code",
   "execution_count": 12,
   "metadata": {},
   "outputs": [],
   "source": [
    "# Construct model - multilayer perceptron\n",
    "pred = multilayer_perceptron(x, weights, biases)"
   ]
  },
  {
   "cell_type": "markdown",
   "metadata": {},
   "source": [
    "## Cost and Optimization Functions\n",
    "\n",
    "I'll use Tensorflow's built-in functions for cost and optimizer functions. "
   ]
  },
  {
   "cell_type": "code",
   "execution_count": 13,
   "metadata": {},
   "outputs": [],
   "source": [
    "# Define loss and optimizer\n",
    "cost = tf.reduce_mean(tf.nn.softmax_cross_entropy_with_logits_v2(logits = pred, labels = y))\n",
    "optimizer = tf.train.AdamOptimizer(learning_rate=learning_rate).minimize(cost)"
   ]
  },
  {
   "cell_type": "markdown",
   "metadata": {},
   "source": [
    "## Training the Model\n",
    "____"
   ]
  },
  {
   "cell_type": "code",
   "execution_count": 14,
   "metadata": {},
   "outputs": [
    {
     "name": "stdout",
     "output_type": "stream",
     "text": [
      "Epoch: 1 cost=176.9226\n",
      "Epoch: 2 cost=43.1191\n",
      "Epoch: 3 cost=27.2498\n",
      "Epoch: 4 cost=19.1290\n",
      "Epoch: 5 cost=13.7459\n",
      "Epoch: 6 cost=10.4267\n",
      "Epoch: 7 cost=7.7401\n",
      "Epoch: 8 cost=5.8667\n",
      "Epoch: 9 cost=4.4164\n",
      "Epoch: 10 cost=3.2253\n",
      "Epoch: 11 cost=2.4565\n",
      "Epoch: 12 cost=1.8675\n",
      "Epoch: 13 cost=1.4507\n",
      "Epoch: 14 cost=1.1135\n",
      "Epoch: 15 cost=0.8999\n",
      "Epoch: 16 cost=0.6751\n",
      "Epoch: 17 cost=0.6497\n",
      "Epoch: 18 cost=0.6393\n",
      "Epoch: 19 cost=0.4474\n",
      "Epoch: 20 cost=0.4985\n",
      "Epoch: 21 cost=0.5098\n",
      "Epoch: 22 cost=0.4594\n",
      "Epoch: 23 cost=0.3394\n",
      "Epoch: 24 cost=0.3141\n",
      "Epoch: 25 cost=0.3039\n",
      "Epoch: 26 cost=0.2701\n",
      "Epoch: 27 cost=0.3644\n",
      "Epoch: 28 cost=0.3906\n",
      "Epoch: 29 cost=0.3071\n",
      "Epoch: 30 cost=0.2678\n",
      "Epoch: 31 cost=0.2418\n",
      "Epoch: 32 cost=0.2470\n",
      "Epoch: 33 cost=0.2575\n",
      "Epoch: 34 cost=0.3217\n",
      "Epoch: 35 cost=0.2486\n",
      "Epoch: 36 cost=0.2105\n",
      "Epoch: 37 cost=0.3257\n",
      "Epoch: 38 cost=0.1821\n",
      "Epoch: 39 cost=0.2067\n",
      "Epoch: 40 cost=0.2587\n",
      "Model has completed 40 Epochs of Training\n"
     ]
    }
   ],
   "source": [
    "# Launch the session\n",
    "sess = tf.InteractiveSession()\n",
    "\n",
    "# Now initialize all those tf.Variable objects we created earlier. \n",
    "# This will be the first thing we run when training our model:\n",
    "init = tf.global_variables_initializer()\n",
    "\n",
    "sess.run(init)\n",
    "\n",
    "costs = []\n",
    "\n",
    "# Training Epochs\n",
    "# Essentially the max amount of loops possible before we stop\n",
    "# May stop earlier if cost/loss limit was set\n",
    "for epoch in range(training_epochs):\n",
    "\n",
    "    # Start with cost = 0.0, we are trying to minimize this\n",
    "    avg_cost = 0.0\n",
    "\n",
    "    # Convert total number of batches to integer\n",
    "    total_batch = int(n_samples/batch_size)\n",
    "\n",
    "    # Loop over all batches\n",
    "    for i in range(total_batch):\n",
    "\n",
    "        # Grab the next batch of training data and labels\n",
    "        batch_x, batch_y = mnist.train.next_batch(batch_size)\n",
    "\n",
    "        # Feed dictionary for optimization and loss value\n",
    "        # Returns a tuple, but we only need 'c' the cost\n",
    "        # So we set an underscore as a \"throwaway\"\n",
    "        _, c = sess.run([optimizer, cost], feed_dict={x: batch_x, y: batch_y})\n",
    "\n",
    "        # Compute average loss\n",
    "        avg_cost += c / total_batch\n",
    "\n",
    "    print(\"Epoch: {} cost={:.4f}\".format(epoch+1,avg_cost))\n",
    "    costs.append(avg_cost)\n",
    "\n",
    "print(\"Model has completed {} Epochs of Training\".format(training_epochs))"
   ]
  },
  {
   "cell_type": "markdown",
   "metadata": {},
   "source": [
    "## Model Evaluations\n",
    "_____\n",
    "\n",
    "Let's take a look at loss over time."
   ]
  },
  {
   "cell_type": "code",
   "execution_count": 15,
   "metadata": {},
   "outputs": [
    {
     "data": {
      "text/plain": [
       "Text(0,0.5,'Cost')"
      ]
     },
     "execution_count": 15,
     "metadata": {},
     "output_type": "execute_result"
    },
    {
     "data": {
      "image/png": "[encoded data removed]",
      "text/plain": [
       "<Figure size 864x288 with 1 Axes>"
      ]
     },
     "metadata": {},
     "output_type": "display_data"
    }
   ],
   "source": [
    "# Visualize loss over time\n",
    "costs_df = pd.Series(data=costs)\n",
    "costs_df.plot(figsize=(12, 4), title='Loss over Time')\n",
    "plt.xlabel('Epochs')\n",
    "plt.ylabel('Cost')"
   ]
  },
  {
   "cell_type": "code",
   "execution_count": 16,
   "metadata": {},
   "outputs": [],
   "source": [
    "# Test model\n",
    "correct_predictions = tf.cast( tf.equal(tf.argmax(pred, 1), tf.argmax(y, 1)), \"float\")"
   ]
  },
  {
   "cell_type": "code",
   "execution_count": 17,
   "metadata": {},
   "outputs": [
    {
     "name": "stdout",
     "output_type": "stream",
     "text": [
      "Accuracy is: 0.9592\n"
     ]
    }
   ],
   "source": [
    "# use the tf.reduce_mean function in order to grab the mean of the elements across the tensor.\n",
    "accuracy = tf.reduce_mean(correct_predictions)\n",
    "\n",
    "# evaluate accuracy\n",
    "print(\"Accuracy is:\", accuracy.eval({x: mnist.test.images, y: mnist.test.labels}))"
   ]
  },
  {
   "cell_type": "markdown",
   "metadata": {},
   "source": [
    "95.9% is pretty good. But there are few things we could do to improve the accuracy.\n",
    "- Increase the training epochs \n",
    "- Try making a deeper model.re because that will take a very long time to run!"
   ]
  }
 ],
 "metadata": {
  "kernelspec": {
   "display_name": "Python 3",
   "language": "python",
   "name": "python3"
  },
  "language_info": {
   "codemirror_mode": {
    "name": "ipython",
    "version": 3
   },
   "file_extension": ".py",
   "mimetype": "text/x-python",
   "name": "python",
   "nbconvert_exporter": "python",
   "pygments_lexer": "ipython3",
   "version": "3.5.5"
  }
 },
 "nbformat": 4,
 "nbformat_minor": 1
}
