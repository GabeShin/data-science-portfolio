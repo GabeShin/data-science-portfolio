{
 "cells": [
  {
   "cell_type": "markdown",
   "metadata": {},
   "source": [
    "____\n",
    "# Home Credit Default Risk - EDA\n",
    "____\n"
   ]
  },
  {
   "cell_type": "markdown",
   "metadata": {},
   "source": [
    "EDA of [Home Credit Default Risk](https://www.kaggle.com/c/home-credit-default-risk) Competition from Kaggle.\n",
    "\n",
    "## <a id='index'>Index</a>\n",
    "\n",
    "### **<a href= '#section1'>Section 1: application_{train|test}.csv</a>**\n",
    "<a href ='#1.1'>1.1: Missing Values</a>\n",
    "\n",
    "<a href ='#1.2'>1.2: Target</a>\n",
    "\n",
    "<a href ='#1.3'>1.3: Data Type of Columns</a>\n",
    "\n",
    "<a href ='#1.4'>1.4: Correlation with Target</a>\n",
    "\n",
    "<a href ='#1.5'>1.5: DAYS_BIRTH</a>\n",
    "\n",
    "<a href ='#1.6'>1.6: REGION_RATING_CLIENT and REGION_RATING_CLIENT_W_CITY</a>\n",
    "\n",
    "<a href ='#1.7'>1.7: DAYS_LAST_PHONE_CHANGE and DAYS_ID_PUBLISH</a>\n",
    "\n",
    "<a href ='#1.8'>1.8: FLAG_DOCUMENTS_*n*</a>\n",
    "\n",
    "<a href ='#1.9'>1.9: EXT_SOURCE_*n*</a>\n",
    "\n",
    "<a href ='#1.10'>1.10: DAYS_EMPLOYED</a>    \n",
    "\n",
    "<a href ='#1.11'>1.11: Normalized Information About Where Client Lives</a>\n",
    "\n",
    "\n",
    "### **<a href= '#section2'>Section 2: previous_application.csv</a>**\n",
    "<a href ='#2.1'>2.1: Data Types of Columns</a>\n",
    "\n",
    "<a href ='#2.2'>2.2: Missing Values</a>\n",
    "\n",
    "<a href ='#2.3'>2.3: RATE_INTEREST_PRIMARY and RATE_INTEREST_PREIVILEGED</a>\n",
    "\n",
    "<a href ='#2.4'>2.4: DAYS_FIRST_DRAWING</a>\n",
    "\n",
    "<a href ='#2.5'>2.5: DAYS_TERMINATION</a>\n",
    "\n",
    "<a href ='#2.6'>2.6: Number 354243</a>\n",
    "\n",
    "\n",
    "\n",
    "### **<a href= '#section3'>Section 3: bureau.csv</a>**\n",
    "<a href ='#3.1'>3.1: Data Types of Columns</a>\n",
    "\n",
    "<a href ='#3.2'>3.2: Missing Values</a>\n",
    "\n",
    "<a href ='#3.3'>3.3: Number of Previous Applications per User</a>\n",
    "\n",
    "<a href ='#3.4'>3.4: CREDIT_ACTIVE</a>\n",
    "\n",
    "<a href ='#3.5'>3.5: DAYS_TERMINATION</a>\n",
    "\n",
    "<a href ='#3.6'>3.6: Number 354243</a>\n",
    "\n",
    "\n",
    "### **<a href= '#section4'>Section 4: Limitations</a>**\n",
    "\n",
    "### **<a href= '#section5'>Section 5: Feature Importance using Random Forest</a>**\n",
    "\n",
    "<a href ='#5.1'>5.1: Label Encoding and One-Hot Encoding</a>\n",
    "\n",
    "<a href ='#5.2'>5.2: Median Imputation and Scaling</a>\n",
    "\n",
    "<a href ='#5.3'>5.3: Training the Model</a>\n",
    "\n",
    "<a href ='#5.4'>5.4: Prediction and Feature Importance</a>"
   ]
  },
  {
   "cell_type": "code",
   "execution_count": 1,
   "metadata": {},
   "outputs": [],
   "source": [
    "import numpy as np\n",
    "import pandas as pd\n",
    "import matplotlib.pyplot as plt\n",
    "import seaborn as sns\n",
    "\n",
    "%matplotlib inline"
   ]
  },
  {
   "cell_type": "markdown",
   "metadata": {},
   "source": [
    "There are 8 datasets in this challenges. Below is relational database schema."
   ]
  },
  {
   "cell_type": "markdown",
   "metadata": {},
   "source": [
    "![home_credit.png](https://storage.googleapis.com/kaggle-media/competitions/home-credit/home_credit.png)"
   ]
  },
  {
   "cell_type": "markdown",
   "metadata": {},
   "source": [
    "## <a id = 'section1' href='#index'>Section 1: application_(train|test).csv</a>\n",
    "\n",
    "* Main tables - our train and test samples\n",
    "* Targe (binary)\n",
    "* Info about loan and loan pplicant at application time"
   ]
  },
  {
   "cell_type": "code",
   "execution_count": 2,
   "metadata": {},
   "outputs": [],
   "source": [
    "# load data\n",
    "app_train = pd.read_csv('../input/Home Credit Default Risk/application_train.csv').sort_values('SK_ID_CURR').reset_index(drop = True)\n",
    "app_test = pd.read_csv('../input/Home Credit Default Risk/application_test.csv').sort_values('SK_ID_CURR').reset_index(drop = True)"
   ]
  },
  {
   "cell_type": "code",
   "execution_count": 3,
   "metadata": {},
   "outputs": [
    {
     "name": "stdout",
     "output_type": "stream",
     "text": [
      "Size of train dataset is:  (307511, 122)\n",
      "Size of test dataset is:  (48744, 121)\n"
     ]
    }
   ],
   "source": [
    "print(\"Size of train dataset is: \", app_train.shape)\n",
    "print(\"Size of test dataset is: \", app_test.shape)"
   ]
  },
  {
   "cell_type": "code",
   "execution_count": 4,
   "metadata": {},
   "outputs": [
    {
     "data": {
      "text/html": [
       "<div>\n",
       "<style scoped>\n",
       "    .dataframe tbody tr th:only-of-type {\n",
       "        vertical-align: middle;\n",
       "    }\n",
       "\n",
       "    .dataframe tbody tr th {\n",
       "        vertical-align: top;\n",
       "    }\n",
       "\n",
       "    .dataframe thead th {\n",
       "        text-align: right;\n",
       "    }\n",
       "</style>\n",
       "<table border=\"1\" class=\"dataframe\">\n",
       "  <thead>\n",
       "    <tr style=\"text-align: right;\">\n",
       "      <th></th>\n",
       "      <th>SK_ID_CURR</th>\n",
       "      <th>TARGET</th>\n",
       "      <th>NAME_CONTRACT_TYPE</th>\n",
       "      <th>CODE_GENDER</th>\n",
       "      <th>FLAG_OWN_CAR</th>\n",
       "      <th>FLAG_OWN_REALTY</th>\n",
       "      <th>CNT_CHILDREN</th>\n",
       "      <th>AMT_INCOME_TOTAL</th>\n",
       "      <th>AMT_CREDIT</th>\n",
       "      <th>AMT_ANNUITY</th>\n",
       "      <th>...</th>\n",
       "      <th>FLAG_DOCUMENT_18</th>\n",
       "      <th>FLAG_DOCUMENT_19</th>\n",
       "      <th>FLAG_DOCUMENT_20</th>\n",
       "      <th>FLAG_DOCUMENT_21</th>\n",
       "      <th>AMT_REQ_CREDIT_BUREAU_HOUR</th>\n",
       "      <th>AMT_REQ_CREDIT_BUREAU_DAY</th>\n",
       "      <th>AMT_REQ_CREDIT_BUREAU_WEEK</th>\n",
       "      <th>AMT_REQ_CREDIT_BUREAU_MON</th>\n",
       "      <th>AMT_REQ_CREDIT_BUREAU_QRT</th>\n",
       "      <th>AMT_REQ_CREDIT_BUREAU_YEAR</th>\n",
       "    </tr>\n",
       "  </thead>\n",
       "  <tbody>\n",
       "    <tr>\n",
       "      <th>0</th>\n",
       "      <td>100002</td>\n",
       "      <td>1</td>\n",
       "      <td>Cash loans</td>\n",
       "      <td>M</td>\n",
       "      <td>N</td>\n",
       "      <td>Y</td>\n",
       "      <td>0</td>\n",
       "      <td>202500.0</td>\n",
       "      <td>406597.5</td>\n",
       "      <td>24700.5</td>\n",
       "      <td>...</td>\n",
       "      <td>0</td>\n",
       "      <td>0</td>\n",
       "      <td>0</td>\n",
       "      <td>0</td>\n",
       "      <td>0.0</td>\n",
       "      <td>0.0</td>\n",
       "      <td>0.0</td>\n",
       "      <td>0.0</td>\n",
       "      <td>0.0</td>\n",
       "      <td>1.0</td>\n",
       "    </tr>\n",
       "    <tr>\n",
       "      <th>1</th>\n",
       "      <td>100003</td>\n",
       "      <td>0</td>\n",
       "      <td>Cash loans</td>\n",
       "      <td>F</td>\n",
       "      <td>N</td>\n",
       "      <td>N</td>\n",
       "      <td>0</td>\n",
       "      <td>270000.0</td>\n",
       "      <td>1293502.5</td>\n",
       "      <td>35698.5</td>\n",
       "      <td>...</td>\n",
       "      <td>0</td>\n",
       "      <td>0</td>\n",
       "      <td>0</td>\n",
       "      <td>0</td>\n",
       "      <td>0.0</td>\n",
       "      <td>0.0</td>\n",
       "      <td>0.0</td>\n",
       "      <td>0.0</td>\n",
       "      <td>0.0</td>\n",
       "      <td>0.0</td>\n",
       "    </tr>\n",
       "    <tr>\n",
       "      <th>2</th>\n",
       "      <td>100004</td>\n",
       "      <td>0</td>\n",
       "      <td>Revolving loans</td>\n",
       "      <td>M</td>\n",
       "      <td>Y</td>\n",
       "      <td>Y</td>\n",
       "      <td>0</td>\n",
       "      <td>67500.0</td>\n",
       "      <td>135000.0</td>\n",
       "      <td>6750.0</td>\n",
       "      <td>...</td>\n",
       "      <td>0</td>\n",
       "      <td>0</td>\n",
       "      <td>0</td>\n",
       "      <td>0</td>\n",
       "      <td>0.0</td>\n",
       "      <td>0.0</td>\n",
       "      <td>0.0</td>\n",
       "      <td>0.0</td>\n",
       "      <td>0.0</td>\n",
       "      <td>0.0</td>\n",
       "    </tr>\n",
       "    <tr>\n",
       "      <th>3</th>\n",
       "      <td>100006</td>\n",
       "      <td>0</td>\n",
       "      <td>Cash loans</td>\n",
       "      <td>F</td>\n",
       "      <td>N</td>\n",
       "      <td>Y</td>\n",
       "      <td>0</td>\n",
       "      <td>135000.0</td>\n",
       "      <td>312682.5</td>\n",
       "      <td>29686.5</td>\n",
       "      <td>...</td>\n",
       "      <td>0</td>\n",
       "      <td>0</td>\n",
       "      <td>0</td>\n",
       "      <td>0</td>\n",
       "      <td>NaN</td>\n",
       "      <td>NaN</td>\n",
       "      <td>NaN</td>\n",
       "      <td>NaN</td>\n",
       "      <td>NaN</td>\n",
       "      <td>NaN</td>\n",
       "    </tr>\n",
       "    <tr>\n",
       "      <th>4</th>\n",
       "      <td>100007</td>\n",
       "      <td>0</td>\n",
       "      <td>Cash loans</td>\n",
       "      <td>M</td>\n",
       "      <td>N</td>\n",
       "      <td>Y</td>\n",
       "      <td>0</td>\n",
       "      <td>121500.0</td>\n",
       "      <td>513000.0</td>\n",
       "      <td>21865.5</td>\n",
       "      <td>...</td>\n",
       "      <td>0</td>\n",
       "      <td>0</td>\n",
       "      <td>0</td>\n",
       "      <td>0</td>\n",
       "      <td>0.0</td>\n",
       "      <td>0.0</td>\n",
       "      <td>0.0</td>\n",
       "      <td>0.0</td>\n",
       "      <td>0.0</td>\n",
       "      <td>0.0</td>\n",
       "    </tr>\n",
       "  </tbody>\n",
       "</table>\n",
       "<p>5 rows × 122 columns</p>\n",
       "</div>"
      ],
      "text/plain": [
       "   SK_ID_CURR  TARGET NAME_CONTRACT_TYPE CODE_GENDER FLAG_OWN_CAR  \\\n",
       "0      100002       1         Cash loans           M            N   \n",
       "1      100003       0         Cash loans           F            N   \n",
       "2      100004       0    Revolving loans           M            Y   \n",
       "3      100006       0         Cash loans           F            N   \n",
       "4      100007       0         Cash loans           M            N   \n",
       "\n",
       "  FLAG_OWN_REALTY  CNT_CHILDREN  AMT_INCOME_TOTAL  AMT_CREDIT  AMT_ANNUITY  \\\n",
       "0               Y             0          202500.0    406597.5      24700.5   \n",
       "1               N             0          270000.0   1293502.5      35698.5   \n",
       "2               Y             0           67500.0    135000.0       6750.0   \n",
       "3               Y             0          135000.0    312682.5      29686.5   \n",
       "4               Y             0          121500.0    513000.0      21865.5   \n",
       "\n",
       "              ...              FLAG_DOCUMENT_18 FLAG_DOCUMENT_19  \\\n",
       "0             ...                             0                0   \n",
       "1             ...                             0                0   \n",
       "2             ...                             0                0   \n",
       "3             ...                             0                0   \n",
       "4             ...                             0                0   \n",
       "\n",
       "  FLAG_DOCUMENT_20 FLAG_DOCUMENT_21 AMT_REQ_CREDIT_BUREAU_HOUR  \\\n",
       "0                0                0                        0.0   \n",
       "1                0                0                        0.0   \n",
       "2                0                0                        0.0   \n",
       "3                0                0                        NaN   \n",
       "4                0                0                        0.0   \n",
       "\n",
       "  AMT_REQ_CREDIT_BUREAU_DAY  AMT_REQ_CREDIT_BUREAU_WEEK  \\\n",
       "0                       0.0                         0.0   \n",
       "1                       0.0                         0.0   \n",
       "2                       0.0                         0.0   \n",
       "3                       NaN                         NaN   \n",
       "4                       0.0                         0.0   \n",
       "\n",
       "   AMT_REQ_CREDIT_BUREAU_MON  AMT_REQ_CREDIT_BUREAU_QRT  \\\n",
       "0                        0.0                        0.0   \n",
       "1                        0.0                        0.0   \n",
       "2                        0.0                        0.0   \n",
       "3                        NaN                        NaN   \n",
       "4                        0.0                        0.0   \n",
       "\n",
       "   AMT_REQ_CREDIT_BUREAU_YEAR  \n",
       "0                         1.0  \n",
       "1                         0.0  \n",
       "2                         0.0  \n",
       "3                         NaN  \n",
       "4                         0.0  \n",
       "\n",
       "[5 rows x 122 columns]"
      ]
     },
     "execution_count": 4,
     "metadata": {},
     "output_type": "execute_result"
    }
   ],
   "source": [
    "app_train.head(5)"
   ]
  },
  {
   "cell_type": "markdown",
   "metadata": {},
   "source": [
    "### <a href='#index' id = '1.1'>1.1 Missing Values</a>"
   ]
  },
  {
   "cell_type": "code",
   "execution_count": 5,
   "metadata": {},
   "outputs": [
    {
     "name": "stdout",
     "output_type": "stream",
     "text": [
      "Your selected dataframe has 122 columns.\n",
      "There are 67 columns that have missing values.\n"
     ]
    },
    {
     "data": {
      "text/html": [
       "<div>\n",
       "<style scoped>\n",
       "    .dataframe tbody tr th:only-of-type {\n",
       "        vertical-align: middle;\n",
       "    }\n",
       "\n",
       "    .dataframe tbody tr th {\n",
       "        vertical-align: top;\n",
       "    }\n",
       "\n",
       "    .dataframe thead th {\n",
       "        text-align: right;\n",
       "    }\n",
       "</style>\n",
       "<table border=\"1\" class=\"dataframe\">\n",
       "  <thead>\n",
       "    <tr style=\"text-align: right;\">\n",
       "      <th></th>\n",
       "      <th>Missing Values</th>\n",
       "      <th>% of Total Values</th>\n",
       "    </tr>\n",
       "  </thead>\n",
       "  <tbody>\n",
       "    <tr>\n",
       "      <th>COMMONAREA_MEDI</th>\n",
       "      <td>214865</td>\n",
       "      <td>69.9</td>\n",
       "    </tr>\n",
       "    <tr>\n",
       "      <th>COMMONAREA_AVG</th>\n",
       "      <td>214865</td>\n",
       "      <td>69.9</td>\n",
       "    </tr>\n",
       "    <tr>\n",
       "      <th>COMMONAREA_MODE</th>\n",
       "      <td>214865</td>\n",
       "      <td>69.9</td>\n",
       "    </tr>\n",
       "    <tr>\n",
       "      <th>NONLIVINGAPARTMENTS_MEDI</th>\n",
       "      <td>213514</td>\n",
       "      <td>69.4</td>\n",
       "    </tr>\n",
       "    <tr>\n",
       "      <th>NONLIVINGAPARTMENTS_MODE</th>\n",
       "      <td>213514</td>\n",
       "      <td>69.4</td>\n",
       "    </tr>\n",
       "    <tr>\n",
       "      <th>NONLIVINGAPARTMENTS_AVG</th>\n",
       "      <td>213514</td>\n",
       "      <td>69.4</td>\n",
       "    </tr>\n",
       "    <tr>\n",
       "      <th>FONDKAPREMONT_MODE</th>\n",
       "      <td>210295</td>\n",
       "      <td>68.4</td>\n",
       "    </tr>\n",
       "    <tr>\n",
       "      <th>LIVINGAPARTMENTS_MODE</th>\n",
       "      <td>210199</td>\n",
       "      <td>68.4</td>\n",
       "    </tr>\n",
       "    <tr>\n",
       "      <th>LIVINGAPARTMENTS_MEDI</th>\n",
       "      <td>210199</td>\n",
       "      <td>68.4</td>\n",
       "    </tr>\n",
       "    <tr>\n",
       "      <th>LIVINGAPARTMENTS_AVG</th>\n",
       "      <td>210199</td>\n",
       "      <td>68.4</td>\n",
       "    </tr>\n",
       "    <tr>\n",
       "      <th>FLOORSMIN_MODE</th>\n",
       "      <td>208642</td>\n",
       "      <td>67.8</td>\n",
       "    </tr>\n",
       "    <tr>\n",
       "      <th>FLOORSMIN_MEDI</th>\n",
       "      <td>208642</td>\n",
       "      <td>67.8</td>\n",
       "    </tr>\n",
       "    <tr>\n",
       "      <th>FLOORSMIN_AVG</th>\n",
       "      <td>208642</td>\n",
       "      <td>67.8</td>\n",
       "    </tr>\n",
       "    <tr>\n",
       "      <th>YEARS_BUILD_MODE</th>\n",
       "      <td>204488</td>\n",
       "      <td>66.5</td>\n",
       "    </tr>\n",
       "    <tr>\n",
       "      <th>YEARS_BUILD_MEDI</th>\n",
       "      <td>204488</td>\n",
       "      <td>66.5</td>\n",
       "    </tr>\n",
       "    <tr>\n",
       "      <th>YEARS_BUILD_AVG</th>\n",
       "      <td>204488</td>\n",
       "      <td>66.5</td>\n",
       "    </tr>\n",
       "    <tr>\n",
       "      <th>OWN_CAR_AGE</th>\n",
       "      <td>202929</td>\n",
       "      <td>66.0</td>\n",
       "    </tr>\n",
       "    <tr>\n",
       "      <th>LANDAREA_AVG</th>\n",
       "      <td>182590</td>\n",
       "      <td>59.4</td>\n",
       "    </tr>\n",
       "    <tr>\n",
       "      <th>LANDAREA_MEDI</th>\n",
       "      <td>182590</td>\n",
       "      <td>59.4</td>\n",
       "    </tr>\n",
       "    <tr>\n",
       "      <th>LANDAREA_MODE</th>\n",
       "      <td>182590</td>\n",
       "      <td>59.4</td>\n",
       "    </tr>\n",
       "  </tbody>\n",
       "</table>\n",
       "</div>"
      ],
      "text/plain": [
       "                          Missing Values  % of Total Values\n",
       "COMMONAREA_MEDI                   214865               69.9\n",
       "COMMONAREA_AVG                    214865               69.9\n",
       "COMMONAREA_MODE                   214865               69.9\n",
       "NONLIVINGAPARTMENTS_MEDI          213514               69.4\n",
       "NONLIVINGAPARTMENTS_MODE          213514               69.4\n",
       "NONLIVINGAPARTMENTS_AVG           213514               69.4\n",
       "FONDKAPREMONT_MODE                210295               68.4\n",
       "LIVINGAPARTMENTS_MODE             210199               68.4\n",
       "LIVINGAPARTMENTS_MEDI             210199               68.4\n",
       "LIVINGAPARTMENTS_AVG              210199               68.4\n",
       "FLOORSMIN_MODE                    208642               67.8\n",
       "FLOORSMIN_MEDI                    208642               67.8\n",
       "FLOORSMIN_AVG                     208642               67.8\n",
       "YEARS_BUILD_MODE                  204488               66.5\n",
       "YEARS_BUILD_MEDI                  204488               66.5\n",
       "YEARS_BUILD_AVG                   204488               66.5\n",
       "OWN_CAR_AGE                       202929               66.0\n",
       "LANDAREA_AVG                      182590               59.4\n",
       "LANDAREA_MEDI                     182590               59.4\n",
       "LANDAREA_MODE                     182590               59.4"
      ]
     },
     "execution_count": 5,
     "metadata": {},
     "output_type": "execute_result"
    }
   ],
   "source": [
    "from utils import missing_values_table\n",
    "\n",
    "missing_values_table = missing_values_table(app_train)\n",
    "missing_values_table.head(20)"
   ]
  },
  {
   "cell_type": "code",
   "execution_count": 6,
   "metadata": {},
   "outputs": [
    {
     "data": {
      "text/plain": [
       "<matplotlib.axes._subplots.AxesSubplot at 0x136927140f0>"
      ]
     },
     "execution_count": 6,
     "metadata": {},
     "output_type": "execute_result"
    },
    {
     "data": {
      "image/png": "[encoded data removed]",
      "text/plain": [
       "<Figure size 432x288 with 1 Axes>"
      ]
     },
     "metadata": {},
     "output_type": "display_data"
    }
   ],
   "source": [
    "sns.distplot(missing_values_table['% of Total Values'], kde = False, bins = 10)"
   ]
  },
  {
   "cell_type": "markdown",
   "metadata": {},
   "source": [
    "There are columns with lots of missing values. We will explore options as we go:\n",
    "- impute the missing values\n",
    "- drop columns with missing values (67 out of 121 cols)\n",
    "- drop columns with majority missing (~>50%) and impute the missing values\n",
    "\n",
    "Overall, we will have to **explore what missing values mean.**\n",
    "\n",
    "### <a href='#index' id='1.2'>1.2 Target</a>"
   ]
  },
  {
   "cell_type": "code",
   "execution_count": 7,
   "metadata": {
    "scrolled": true
   },
   "outputs": [
    {
     "data": {
      "text/plain": [
       "<matplotlib.axes._subplots.AxesSubplot at 0x136ccdad860>"
      ]
     },
     "execution_count": 7,
     "metadata": {},
     "output_type": "execute_result"
    },
    {
     "data": {
      "image/png": "[encoded data removed]",
      "text/plain": [
       "<Figure size 864x288 with 1 Axes>"
      ]
     },
     "metadata": {},
     "output_type": "display_data"
    }
   ],
   "source": [
    "plt.figure(figsize=(12,4))\n",
    "plt.title(\"Distribution of TARGET\")\n",
    "app_train['TARGET'].plot.hist()"
   ]
  },
  {
   "cell_type": "markdown",
   "metadata": {},
   "source": [
    "**Imbalance class problem** needs to be addressed."
   ]
  },
  {
   "cell_type": "markdown",
   "metadata": {},
   "source": [
    "### <a id='1.3' href='#index'>1.3 Data Types of Columns</a>"
   ]
  },
  {
   "cell_type": "code",
   "execution_count": 8,
   "metadata": {},
   "outputs": [
    {
     "data": {
      "text/plain": [
       "float64    65\n",
       "int64      41\n",
       "object     16\n",
       "dtype: int64"
      ]
     },
     "execution_count": 8,
     "metadata": {},
     "output_type": "execute_result"
    }
   ],
   "source": [
    "# number of each type of columns\n",
    "app_train.dtypes.value_counts()"
   ]
  },
  {
   "cell_type": "code",
   "execution_count": 9,
   "metadata": {},
   "outputs": [
    {
     "data": {
      "text/plain": [
       "NAME_CONTRACT_TYPE             2\n",
       "CODE_GENDER                    3\n",
       "FLAG_OWN_CAR                   2\n",
       "FLAG_OWN_REALTY                2\n",
       "NAME_TYPE_SUITE                7\n",
       "NAME_INCOME_TYPE               8\n",
       "NAME_EDUCATION_TYPE            5\n",
       "NAME_FAMILY_STATUS             6\n",
       "NAME_HOUSING_TYPE              6\n",
       "OCCUPATION_TYPE               18\n",
       "WEEKDAY_APPR_PROCESS_START     7\n",
       "ORGANIZATION_TYPE             58\n",
       "FONDKAPREMONT_MODE             4\n",
       "HOUSETYPE_MODE                 3\n",
       "WALLSMATERIAL_MODE             7\n",
       "EMERGENCYSTATE_MODE            2\n",
       "dtype: int64"
      ]
     },
     "execution_count": 9,
     "metadata": {},
     "output_type": "execute_result"
    }
   ],
   "source": [
    "# number of unique classes for each object type columns\n",
    "app_train.select_dtypes('object').apply(pd.Series.nunique, axis = 0)"
   ]
  },
  {
   "cell_type": "markdown",
   "metadata": {},
   "source": [
    "We will perform **One Hot Encoding** when data cleaning."
   ]
  },
  {
   "cell_type": "markdown",
   "metadata": {},
   "source": [
    "### <a id='1.4' href='#index'>1.4 Correlation with Target</a>"
   ]
  },
  {
   "cell_type": "code",
   "execution_count": 10,
   "metadata": {},
   "outputs": [
    {
     "ename": "KeyboardInterrupt",
     "evalue": "",
     "output_type": "error",
     "traceback": [
      "\u001b[1;31m---------------------------------------------------------------------------\u001b[0m",
      "\u001b[1;31mKeyboardInterrupt\u001b[0m                         Traceback (most recent call last)",
      "\u001b[1;32m<ipython-input-10-4e44ffce24d5>\u001b[0m in \u001b[0;36m<module>\u001b[1;34m()\u001b[0m\n\u001b[0;32m      1\u001b[0m \u001b[1;31m# Correlation with the Target. Absolute Values.\u001b[0m\u001b[1;33m\u001b[0m\u001b[1;33m\u001b[0m\u001b[0m\n\u001b[1;32m----> 2\u001b[1;33m \u001b[0mcorr\u001b[0m \u001b[1;33m=\u001b[0m \u001b[0mapp_train\u001b[0m\u001b[1;33m.\u001b[0m\u001b[0mcorr\u001b[0m\u001b[1;33m(\u001b[0m\u001b[1;33m)\u001b[0m\u001b[1;33m\u001b[0m\u001b[0m\n\u001b[0m\u001b[0;32m      3\u001b[0m \u001b[0mprint\u001b[0m\u001b[1;33m(\u001b[0m\u001b[1;34m\"Most postivie correlations:\\n\\n\"\u001b[0m\u001b[1;33m,\u001b[0m \u001b[0mcorr\u001b[0m\u001b[1;33m[\u001b[0m\u001b[1;34m'TARGET'\u001b[0m\u001b[1;33m]\u001b[0m\u001b[1;33m.\u001b[0m\u001b[0msort_values\u001b[0m\u001b[1;33m(\u001b[0m\u001b[0mascending\u001b[0m\u001b[1;33m=\u001b[0m\u001b[1;32mFalse\u001b[0m\u001b[1;33m)\u001b[0m\u001b[1;33m.\u001b[0m\u001b[0mhead\u001b[0m\u001b[1;33m(\u001b[0m\u001b[1;36m10\u001b[0m\u001b[1;33m)\u001b[0m\u001b[1;33m)\u001b[0m\u001b[1;33m\u001b[0m\u001b[0m\n\u001b[0;32m      4\u001b[0m \u001b[0mprint\u001b[0m\u001b[1;33m(\u001b[0m\u001b[1;34m\"\\nMost Negative correlations:\\n\\n\"\u001b[0m\u001b[1;33m,\u001b[0m \u001b[0mcorr\u001b[0m\u001b[1;33m[\u001b[0m\u001b[1;34m'TARGET'\u001b[0m\u001b[1;33m]\u001b[0m\u001b[1;33m.\u001b[0m\u001b[0msort_values\u001b[0m\u001b[1;33m(\u001b[0m\u001b[0mascending\u001b[0m\u001b[1;33m=\u001b[0m\u001b[1;32mTrue\u001b[0m\u001b[1;33m)\u001b[0m\u001b[1;33m.\u001b[0m\u001b[0mhead\u001b[0m\u001b[1;33m(\u001b[0m\u001b[1;36m10\u001b[0m\u001b[1;33m)\u001b[0m\u001b[1;33m)\u001b[0m\u001b[1;33m\u001b[0m\u001b[0m\n",
      "\u001b[1;32m~\\Anaconda3\\lib\\site-packages\\pandas\\core\\frame.py\u001b[0m in \u001b[0;36mcorr\u001b[1;34m(self, method, min_periods)\u001b[0m\n\u001b[0;32m   6505\u001b[0m \u001b[1;33m\u001b[0m\u001b[0m\n\u001b[0;32m   6506\u001b[0m         \u001b[1;32mif\u001b[0m \u001b[0mmethod\u001b[0m \u001b[1;33m==\u001b[0m \u001b[1;34m'pearson'\u001b[0m\u001b[1;33m:\u001b[0m\u001b[1;33m\u001b[0m\u001b[0m\n\u001b[1;32m-> 6507\u001b[1;33m             \u001b[0mcorrel\u001b[0m \u001b[1;33m=\u001b[0m \u001b[0mlibalgos\u001b[0m\u001b[1;33m.\u001b[0m\u001b[0mnancorr\u001b[0m\u001b[1;33m(\u001b[0m\u001b[0m_ensure_float64\u001b[0m\u001b[1;33m(\u001b[0m\u001b[0mmat\u001b[0m\u001b[1;33m)\u001b[0m\u001b[1;33m,\u001b[0m \u001b[0mminp\u001b[0m\u001b[1;33m=\u001b[0m\u001b[0mmin_periods\u001b[0m\u001b[1;33m)\u001b[0m\u001b[1;33m\u001b[0m\u001b[0m\n\u001b[0m\u001b[0;32m   6508\u001b[0m         \u001b[1;32melif\u001b[0m \u001b[0mmethod\u001b[0m \u001b[1;33m==\u001b[0m \u001b[1;34m'spearman'\u001b[0m\u001b[1;33m:\u001b[0m\u001b[1;33m\u001b[0m\u001b[0m\n\u001b[0;32m   6509\u001b[0m             correl = libalgos.nancorr_spearman(_ensure_float64(mat),\n",
      "\u001b[1;31mKeyboardInterrupt\u001b[0m: "
     ]
    }
   ],
   "source": [
    "# Correlation with the Target. Absolute Values. \n",
    "corr = app_train.corr()\n",
    "print(\"Most postivie correlations:\\n\\n\", corr['TARGET'].sort_values(ascending=False).head(10))\n",
    "print(\"\\nMost Negative correlations:\\n\\n\", corr['TARGET'].sort_values(ascending=True).head(10))"
   ]
  },
  {
   "cell_type": "markdown",
   "metadata": {},
   "source": [
    "Correlation doesn't necessarily mean a feature is more meaningful than others when determining the target, but it gives us a place to start looking."
   ]
  },
  {
   "cell_type": "markdown",
   "metadata": {},
   "source": [
    "### <a id='1.5' href='#index'>1.5 DAYS_BIRTH</a>"
   ]
  },
  {
   "cell_type": "code",
   "execution_count": null,
   "metadata": {},
   "outputs": [],
   "source": [
    "plt.figure(figsize=(12,4))\n",
    "plt.title(\"Distribution of DAYS_BIRTH\")\n",
    "sns.kdeplot(app_train.loc[app_train['TARGET'] == 0, 'DAYS_BIRTH'], label='target = 0')\n",
    "sns.kdeplot(app_train.loc[app_train['TARGET'] == 1, 'DAYS_BIRTH'], label='target = 1')"
   ]
  },
  {
   "cell_type": "markdown",
   "metadata": {},
   "source": [
    "Notice DAYS_BIRTH is a **negative value**. Intuitively this is kind of confusing. But we don't necessarily have to change the data, because a data is just a data, all the same. \n",
    "\n",
    "According to column descriptions: *Client's age in days at the time of application* and it is *time only relative to the application*\n",
    "\n",
    "On the other note:\n",
    "- we can notice target = 1 (clients with payment difficulty) is skewed towards right -> meaning younger population has more difficulty paying back in time. \n",
    "- Older population on the other hand, is more likely to payback in time. "
   ]
  },
  {
   "cell_type": "markdown",
   "metadata": {},
   "source": [
    "### <a id='1.6' href='#index'>1.6 REGION_RATING_CLIENT and REGION_RATING_CLIENT_W_CITY</a>\n",
    "According to column descriptions given:\n",
    "* REGION_RATING_CLIENT: Our rating of the region where client lives (1,2,3)\n",
    "* REGION_RATING_CLIENT_W_CITY: Our rating of the region where client lives with taking city into account (1,2,3)\n"
   ]
  },
  {
   "cell_type": "code",
   "execution_count": null,
   "metadata": {},
   "outputs": [],
   "source": [
    "plt.figure(figsize=(12,4))\n",
    "plt.title(\"Countplot of REGION_RATING_CLIENT\")\n",
    "sns.countplot(x='REGION_RATING_CLIENT', data=app_train, hue='TARGET')"
   ]
  },
  {
   "cell_type": "code",
   "execution_count": null,
   "metadata": {},
   "outputs": [],
   "source": [
    "plt.figure(figsize=(12,4))\n",
    "plt.title(\"Countplot of REGION_RATING_CLIENT\")\n",
    "sns.countplot(x='REGION_RATING_CLIENT_W_CITY', data=app_train, hue='TARGET')"
   ]
  },
  {
   "cell_type": "markdown",
   "metadata": {},
   "source": [
    "* REGION_RATING_CLIENT and REGION_RATING_CLIENT_W_CITY looks very similar. "
   ]
  },
  {
   "cell_type": "code",
   "execution_count": null,
   "metadata": {},
   "outputs": [],
   "source": [
    "# Ratio b/w Target = 0 and 1 for each rating.\n",
    "print('When REGION_RATING_CLIENT == 1',\n",
    "       '\\nNumber of observations is : \\t',app_train[app_train['REGION_RATING_CLIENT']==1].shape[0],\n",
    "      \"\\nAmong those TARGET == 1 is:\\t\", app_train[(app_train['REGION_RATING_CLIENT']==1) & (app_train['TARGET']==1)].shape[0],\n",
    "     \"\\nThe percentage is:\\t\\t\", format(app_train[(app_train['REGION_RATING_CLIENT']==1) & (app_train['TARGET']==1)].shape[0] / app_train[app_train['REGION_RATING_CLIENT']==1].shape[0] * 100, '.2f'), '%')\n",
    "print('\\nWhen REGION_RATING_CLIENT == 2',\n",
    "       '\\nNumber of observations is : \\t',app_train[app_train['REGION_RATING_CLIENT']==2].shape[0],\n",
    "      \"\\nAmong those TARGET == 1 is:\\t\", app_train[(app_train['REGION_RATING_CLIENT']==2) & (app_train['TARGET']==1)].shape[0],\n",
    "     \"\\nThe percentage is:\\t\\t\", format(app_train[(app_train['REGION_RATING_CLIENT']==2) & (app_train['TARGET']==1)].shape[0] / app_train[app_train['REGION_RATING_CLIENT']==2].shape[0] * 100, '.2f'), '%')\n",
    "print('\\nWhen REGION_RATING_CLIENT == 3',\n",
    "       '\\nNumber of observations is : \\t',app_train[app_train['REGION_RATING_CLIENT']==3].shape[0],\n",
    "      \"\\nAmong those TARGET == 1 is:\\t\", app_train[(app_train['REGION_RATING_CLIENT']==3) & (app_train['TARGET']==1)].shape[0],\n",
    "     \"\\nThe percentage is:\\t\\t\", format(app_train[(app_train['REGION_RATING_CLIENT']==3) & (app_train['TARGET']==1)].shape[0] / app_train[app_train['REGION_RATING_CLIENT']==3].shape[0] * 100, '.2f'), '%')"
   ]
  },
  {
   "cell_type": "markdown",
   "metadata": {},
   "source": [
    "* This suggests that higher the REGION_RATING_CLIENT, more likely the client is going to have difficulty paying back in time. \n",
    "* Higher rating probably means poorer region. "
   ]
  },
  {
   "cell_type": "code",
   "execution_count": null,
   "metadata": {},
   "outputs": [],
   "source": [
    "temp = corr['REGION_RATING_CLIENT']['REGION_RATING_CLIENT_W_CITY']\n",
    "print('Correlation between REGION_RATING_CLIENT and REGION_RATING_CLIENT_W_CITY is ', format(temp, '.2f'))"
   ]
  },
  {
   "cell_type": "markdown",
   "metadata": {},
   "source": [
    "* Very high correlations. We might end up dropping one of the feature. (Not so much because of multicollinearity problem, but because we have SO many features) "
   ]
  },
  {
   "cell_type": "markdown",
   "metadata": {},
   "source": [
    "### <a id='1.7' href='#index'>1.7 DAYS_LAST_PHONE_CHANGE and DAYS_ID_PUBLISH</a>\n",
    "\n",
    "DAYS_LAST_PHONE_CHANGE: How many days before application did client change phone\n",
    "DAYS_ID_PUBLISH: How many days before the application did client change the identity document with which he applied for the loan"
   ]
  },
  {
   "cell_type": "code",
   "execution_count": null,
   "metadata": {},
   "outputs": [],
   "source": [
    "plt.figure(figsize=(12,4))\n",
    "plt.title(\"Distribution of DAYS_LAST_PHONE_CHANGE\")\n",
    "sns.distplot(app_train.loc[app_train['TARGET'] == 0, 'DAYS_LAST_PHONE_CHANGE'].dropna(), label='target = 0')\n",
    "sns.distplot(app_train.loc[app_train['TARGET'] == 1, 'DAYS_LAST_PHONE_CHANGE'].dropna(), label='target = 1')"
   ]
  },
  {
   "cell_type": "code",
   "execution_count": null,
   "metadata": {},
   "outputs": [],
   "source": [
    "plt.figure(figsize=(12,4))\n",
    "plt.title(\"Distribution of DAYS_ID_PUBLISH\")\n",
    "sns.distplot(app_train.loc[app_train['TARGET'] == 0, 'DAYS_ID_PUBLISH'], label='target = 0')\n",
    "sns.distplot(app_train.loc[app_train['TARGET'] == 1, 'DAYS_ID_PUBLISH'], label='target = 1')"
   ]
  },
  {
   "cell_type": "markdown",
   "metadata": {},
   "source": [
    "I guess there is little bit of trend in both graphs.\n",
    "\n",
    "### <a id='1.8' href='#index'>1.8 FLAG_DOCUMENTS_*n* </a>\n",
    "\n",
    "There are total 20 FLAG_DOCUMENTS_*n* features (ranging from 2 to 21)\n",
    "\n",
    "These are binary variable that answers \"did client provide document *n*.\""
   ]
  },
  {
   "cell_type": "code",
   "execution_count": null,
   "metadata": {},
   "outputs": [],
   "source": [
    "app_train.filter(like='FLAG_DOCUMENT', axis=1).mean()"
   ]
  },
  {
   "cell_type": "markdown",
   "metadata": {},
   "source": [
    "* Looks like a lot of zeros in this data. \n",
    "* FLAG_DOCUMENT_3 has highest turn-in rate, 71%, and it also had high postive correlation with the TARGET. \n",
    "\n",
    "### <a id='1.9' href='#index'>1.9 EXT_SOURCE_*n* </a>\n",
    "\n",
    "This is very interesting features! There are in total three of these features and according to column descriptions: \n",
    "- EXT_SOURCE_1: Normalized score from external data source\n",
    "- EXT_SOURCE_2: Normalized score from external data source\n",
    "- EXT_SOURCE_3: Normalized score from external data source\n",
    "\n",
    "And all three has noticably high negative correlation with the target."
   ]
  },
  {
   "cell_type": "code",
   "execution_count": null,
   "metadata": {},
   "outputs": [],
   "source": [
    "plt.figure(figsize = (12, 12))\n",
    "\n",
    "# iterate through the sources\n",
    "for i, source in enumerate(['EXT_SOURCE_1', 'EXT_SOURCE_2', 'EXT_SOURCE_3']):\n",
    "    # create a new subplot for each source\n",
    "    plt.subplot(3, 1, i + 1)\n",
    "\n",
    "    sns.kdeplot(app_train.loc[app_train['TARGET'] == 0, source].dropna(), label = 'target = 0')\n",
    "    sns.kdeplot(app_train.loc[app_train['TARGET'] == 1, source].dropna(), label = 'target = 1')\n",
    "    \n",
    "    plt.title('Distribution of %s' % source)"
   ]
  },
  {
   "cell_type": "markdown",
   "metadata": {},
   "source": [
    "These features seems to have some relationship with target. They don't necessarily have *strong* relationships, but they seems like ones with the strongest indicators so far."
   ]
  },
  {
   "cell_type": "markdown",
   "metadata": {},
   "source": [
    "### <a id='1.10' href='#index'>1.10 DAYS_EMPLOYED</a>\n",
    "\n",
    "Self explanatory, but:\n",
    "* DAYS_EMPLOYED: How many days before the application the person started current employment"
   ]
  },
  {
   "cell_type": "code",
   "execution_count": null,
   "metadata": {
    "scrolled": true
   },
   "outputs": [],
   "source": [
    "plt.figure(figsize=(12,4))\n",
    "plt.title(\"Distribution of DAYS_EMPLOYED\")\n",
    "sns.distplot(app_train.loc[app_train['TARGET'] == 0, 'DAYS_EMPLOYED'].dropna(), label='target = 0')\n",
    "sns.distplot(app_train.loc[app_train['TARGET'] == 1, 'DAYS_EMPLOYED'].dropna(), label='target = 1')"
   ]
  },
  {
   "cell_type": "markdown",
   "metadata": {},
   "source": [
    "This data seems like corrupted. (or other reasons perhaps?)\n",
    "\n",
    "There are people who has been employed for over 1,000 years and it seems like there's quite a bit of them. \n",
    "\n",
    "Let's collect these people:"
   ]
  },
  {
   "cell_type": "code",
   "execution_count": null,
   "metadata": {},
   "outputs": [],
   "source": [
    "anomalies = app_train[app_train['DAYS_EMPLOYED'] >= 300000]\n",
    "normal = app_train[app_train['DAYS_EMPLOYED'] < 30000]\n",
    "\n",
    "# describe\n",
    "anomalies['DAYS_EMPLOYED'].describe()"
   ]
  },
  {
   "cell_type": "code",
   "execution_count": null,
   "metadata": {},
   "outputs": [],
   "source": [
    "# compare targets of both groups\n",
    "print('The normal default on %0.2f%% of loans' % (100 * normal['TARGET'].mean()))\n",
    "print('The anomalies default on %0.2f%% of loans' % (100 * anomalies['TARGET'].mean()))"
   ]
  },
  {
   "cell_type": "code",
   "execution_count": null,
   "metadata": {},
   "outputs": [],
   "source": [
    "plt.figure(figsize=(12,4))\n",
    "plt.title(\"Distribution of DAYS_EMPLOYED\")\n",
    "sns.distplot(normal.loc[normal['TARGET'] == 0, 'DAYS_EMPLOYED'].dropna(), label='target = 0')\n",
    "sns.distplot(normal.loc[normal['TARGET'] == 1, 'DAYS_EMPLOYED'].dropna(), label='target = 1')"
   ]
  },
  {
   "cell_type": "markdown",
   "metadata": {},
   "source": [
    "Few things: \n",
    "* Now the graph makes sense: people with shorter days of employment are more like to default on loans. \n",
    "* There are 55,374 observations that has exactly 365,243 DAYS_OF_EMPLOYMENT.\n",
    "* AND they seem to default less than the sample average.\n",
    "* It could be worthwhile to make an identifier for this group and replace 365,243 with missing value. "
   ]
  },
  {
   "cell_type": "markdown",
   "metadata": {},
   "source": [
    "### <a id='1.11' href='#index'>1.11 Normalized Information About Where Client Lives</a>"
   ]
  },
  {
   "cell_type": "markdown",
   "metadata": {},
   "source": [
    "There are 47 features about 'Normalized Information About Where Client Lives.' They column descriptions are as followed: \n",
    "- Normalized information about building where the client lives, What is average (_AVG suffix), modus (_MODE suffix), median (_MEDI suffix) apartment size, common area, living area, age of building, number of elevators, number of entrances, state of the building, number of floor"
   ]
  },
  {
   "cell_type": "code",
   "execution_count": null,
   "metadata": {},
   "outputs": [],
   "source": [
    "apartment_feature = app_train[app_train.columns[44:91]]\n",
    "apartment_feature.head(5)"
   ]
  },
  {
   "cell_type": "code",
   "execution_count": null,
   "metadata": {},
   "outputs": [],
   "source": [
    "# corr.iloc[32:75, 32:75] \n",
    "sns.heatmap(corr.iloc[32:75, 32:75])"
   ]
  },
  {
   "cell_type": "code",
   "execution_count": null,
   "metadata": {},
   "outputs": [],
   "source": [
    "# how many missing values?\n",
    "missing_percentage = apartment_feature.isnull().sum().sum() / (apartment_feature.shape[0] * apartment_feature.shape[1])\n",
    "\n",
    "print(\"Missing values in apartment feature \", format(missing_percentage * 100, '.2f'), '%')"
   ]
  },
  {
   "cell_type": "markdown",
   "metadata": {},
   "source": [
    "* Maybe look for ways to feature engineer these variables by using some domain knowledge?"
   ]
  },
  {
   "cell_type": "markdown",
   "metadata": {},
   "source": [
    "## <a id = 'section2' href = '#index'>Section 2: previous_application.csv</a>\n",
    "\n",
    "* Application data of client's previous loan in Home Credit\n",
    "* Info about the previous loan parameters and client info at the time of previous application\n",
    "* One row per previous application"
   ]
  },
  {
   "cell_type": "code",
   "execution_count": null,
   "metadata": {},
   "outputs": [],
   "source": [
    "# load the data\n",
    "previous = pd.read_csv('../input/Home Credit Default Risk/previous_application.csv').sort_values(['SK_ID_CURR', 'SK_ID_PREV']).reset_index(drop = True)"
   ]
  },
  {
   "cell_type": "code",
   "execution_count": null,
   "metadata": {},
   "outputs": [],
   "source": [
    "print('Size of previous application data', previous.shape)\n",
    "previous.head()"
   ]
  },
  {
   "cell_type": "markdown",
   "metadata": {},
   "source": [
    "### <a id='2.1' href='#index'>2.1 Data Types of Columns</a>"
   ]
  },
  {
   "cell_type": "code",
   "execution_count": null,
   "metadata": {},
   "outputs": [],
   "source": [
    "# number of each type of columns\n",
    "previous.dtypes.value_counts()"
   ]
  },
  {
   "cell_type": "code",
   "execution_count": null,
   "metadata": {},
   "outputs": [],
   "source": [
    "# number of unique classes for each object type columns\n",
    "previous.select_dtypes('object').apply(pd.Series.nunique, axis = 0)"
   ]
  },
  {
   "cell_type": "markdown",
   "metadata": {},
   "source": [
    "I will convert those into dummy variable later, when I'm data cleaning and feature engineering. \n",
    "\n",
    "### <a id='2.2' href='#index'>2.2 Missing Values</a>\n"
   ]
  },
  {
   "cell_type": "code",
   "execution_count": null,
   "metadata": {},
   "outputs": [],
   "source": [
    "from utils import missing_values_table\n",
    "\n",
    "missing_values_table_prev = missing_values_table(previous)\n",
    "missing_values_table_prev.head(20)"
   ]
  },
  {
   "cell_type": "code",
   "execution_count": null,
   "metadata": {},
   "outputs": [],
   "source": [
    "sns.distplot(missing_values_table_prev['% of Total Values'], kde = False, bins = 10)"
   ]
  },
  {
   "cell_type": "markdown",
   "metadata": {},
   "source": [
    "* RATE_INTEREST_PRIMARY: Interest rate normalized on previous credit\n",
    "* RATE_INTEREST_PRIVILEGED: Interest rate normalized on previous credit\n",
    "\n",
    "RATE_INTEREST_PRIMARY and RATE_INTEREST_PREIVILEGED has too many missing values (99.6%)."
   ]
  },
  {
   "cell_type": "markdown",
   "metadata": {},
   "source": [
    "### <a id='2.3' href='#index'>2.3 RATE_INTEREST_PRIMARY and RATE_INTEREST_PREIVILEGED</a>"
   ]
  },
  {
   "cell_type": "code",
   "execution_count": null,
   "metadata": {},
   "outputs": [],
   "source": [
    "sns.kdeplot(previous['RATE_INTEREST_PRIMARY'].dropna())\n",
    "sns.kdeplot(previous['RATE_INTEREST_PRIVILEGED'].dropna())"
   ]
  },
  {
   "cell_type": "markdown",
   "metadata": {},
   "source": [
    "Hmmmm"
   ]
  },
  {
   "cell_type": "markdown",
   "metadata": {},
   "source": [
    "### <a id='2.4' href='#index'>2.4 DAYS_FIRST_DRAWING</a>\n",
    "\n",
    "So interesting thing I found while looking at the head! The **mysterious number 365,243 reappears.**\n",
    "\n",
    "* DAYS_FIRST_DRAWING: Relative to application date of current application when was the first disbursement of the previous application,time only relative to the application"
   ]
  },
  {
   "cell_type": "code",
   "execution_count": null,
   "metadata": {},
   "outputs": [],
   "source": [
    "plt.figure(figsize=(12,4))\n",
    "plt.title(\"Distribution of DAYS_FIRST_DRAWING\")\n",
    "sns.distplot(previous['DAYS_FIRST_DRAWING'].dropna())"
   ]
  },
  {
   "cell_type": "code",
   "execution_count": null,
   "metadata": {},
   "outputs": [],
   "source": [
    "# fun stuff. Let's looks at those anomalies again. \n",
    "prev_anomalies = previous[previous['DAYS_FIRST_DRAWING'] >= 300000]\n",
    "prev_normal = previous[previous['DAYS_FIRST_DRAWING'] < 30000]\n",
    "\n",
    "# compare counts\n",
    "print('The number of normal observations is', prev_normal['DAYS_FIRST_DRAWING'].shape[0])\n",
    "print('The number of anomalies is', prev_anomalies['DAYS_FIRST_DRAWING'].shape[0])"
   ]
  },
  {
   "cell_type": "markdown",
   "metadata": {},
   "source": [
    "Out of 1,670,214 observations we have, 934,444 observations are anomalies. \n",
    "\n",
    "There has to be some reason for this!\n",
    "\n",
    "* The number 365,243 was first surfaced in DAYS_EMPLOYED feature in [app_train dataset](#1.10). "
   ]
  },
  {
   "cell_type": "code",
   "execution_count": null,
   "metadata": {},
   "outputs": [],
   "source": [
    "plt.figure(figsize=(12,4))\n",
    "plt.title(\"Distribution of DAYS_FIRST_DRAWING\")\n",
    "sns.distplot(prev_normal['DAYS_FIRST_DRAWING'].dropna())"
   ]
  },
  {
   "cell_type": "markdown",
   "metadata": {},
   "source": [
    "This is interesting looking distribution like there are two clusters. I guess people don't really make disbursement during the 4th yea and 5th of the loan. Maybe there was an issue with Home Credit during that time. "
   ]
  },
  {
   "cell_type": "markdown",
   "metadata": {},
   "source": [
    "### <a id='2.5' href='#index'>2.5 DAYS_TERMINATION</a>\n",
    "\n",
    "* DAYS_TERMINATION: Relative to application date of current application when was the expected termination of the previous application,time only relative to the application\n",
    "\n",
    "This would show some relationship between previous application and current application. "
   ]
  },
  {
   "cell_type": "code",
   "execution_count": null,
   "metadata": {},
   "outputs": [],
   "source": [
    "plt.figure(figsize=(12,4))\n",
    "plt.title(\"Distribution of DAYS_TERMINATION\")\n",
    "sns.distplot(prev_normal['DAYS_TERMINATION'].dropna())"
   ]
  },
  {
   "cell_type": "code",
   "execution_count": null,
   "metadata": {},
   "outputs": [],
   "source": [
    "# AGAIN, the magical number resurfaces \n",
    "prev_anomalies = previous[previous['DAYS_TERMINATION'] >= 300000]\n",
    "prev_normal = previous[previous['DAYS_TERMINATION'] < 30000]\n",
    "\n",
    "# compare counts\n",
    "print('The number of normal observations is', prev_normal['DAYS_TERMINATION'].shape[0])\n",
    "print('The number of anomalies is', prev_anomalies['DAYS_TERMINATION'].shape[0])\n",
    "\n",
    "plt.figure(figsize=(12,4))\n",
    "plt.title(\"Distribution of DAYS_TERMINATION\")\n",
    "sns.distplot(prev_normal['DAYS_TERMINATION'].dropna())"
   ]
  },
  {
   "cell_type": "markdown",
   "metadata": {},
   "source": [
    "* Looks like we have to make it our business to go through the data and look for value 354,243 and turn it into something else. OR create an identifier. \n",
    "* The graph is quite surprising! It suggests a lot of people apply for the new application soon after they terminate the previous one."
   ]
  },
  {
   "cell_type": "markdown",
   "metadata": {},
   "source": [
    "### <a id='2.6' href='#index'>2.6 Number 354243</a>\n",
    "\n",
    "It seems 354243 appears often, so let's try to make sense of this. "
   ]
  },
  {
   "cell_type": "code",
   "execution_count": null,
   "metadata": {},
   "outputs": [],
   "source": [
    "# create dataframe for values with 354243\n",
    "prev_354243 = pd.DataFrame(previous[previous[:] == 365243.0].count())\n",
    "app_354243 = pd.DataFrame(app_train[app_train[:] == 365243.0].count())"
   ]
  },
  {
   "cell_type": "code",
   "execution_count": null,
   "metadata": {},
   "outputs": [],
   "source": [
    "# drop unnecessary variables\n",
    "app_354243 = app_354243[app_354243[0] != 0]\n",
    "prev_354243 = prev_354243[prev_354243[0] != 0]"
   ]
  },
  {
   "cell_type": "code",
   "execution_count": null,
   "metadata": {},
   "outputs": [],
   "source": [
    "print('Columns with 3543243 in application csv: \\n', app_354243.index)\n",
    "print('Columns with 3543243 in previous application csv: \\n', prev_354243.index)"
   ]
  },
  {
   "cell_type": "markdown",
   "metadata": {},
   "source": [
    "After looking at discussion in Kaggle, there was an answer from competition host clarifying *\"Value 365243 denotes infinity in DAYS variables in the datasets, therefore you can consider them NA values. Also XNA/XAP denote NA values\".*\n",
    "\n",
    "So when replacing this number, we would have to think about what it would imply.\n",
    "- for example, 0 could work for DAYS_EMPLOYED, because it would imply that the applicant isn't working.\n",
    "- but for DAYS_FIRST_DRAWING, 0 would imply applicant made the disbursement very fast. "
   ]
  },
  {
   "cell_type": "markdown",
   "metadata": {},
   "source": [
    "## <a id = 'section3' href = '#index'>Section 3: bureau.csv</a>\n",
    "\n",
    "* Application data from previous loans that client got from other institutions and that were reported to Credit Bureau\n",
    "* One row per client's loan in Credit Bureau"
   ]
  },
  {
   "cell_type": "code",
   "execution_count": null,
   "metadata": {},
   "outputs": [],
   "source": [
    "# load the data\n",
    "bureau = pd.read_csv('../input/Home Credit Default Risk/bureau.csv').sort_values(['SK_ID_CURR', 'SK_ID_BUREAU']).reset_index(drop = True)"
   ]
  },
  {
   "cell_type": "code",
   "execution_count": null,
   "metadata": {},
   "outputs": [],
   "source": [
    "print('Size of previous application data', bureau.shape)\n",
    "bureau.head()"
   ]
  },
  {
   "cell_type": "markdown",
   "metadata": {},
   "source": [
    "### <a id='3.1' href='#index'>3.1 Data Types of Columns</a>"
   ]
  },
  {
   "cell_type": "code",
   "execution_count": null,
   "metadata": {},
   "outputs": [],
   "source": [
    "# number of each type of columns\n",
    "previous.dtypes.value_counts()"
   ]
  },
  {
   "cell_type": "code",
   "execution_count": null,
   "metadata": {},
   "outputs": [],
   "source": [
    "# number of unique classes for each object type columns\n",
    "previous.select_dtypes('object').apply(pd.Series.nunique, axis = 0)"
   ]
  },
  {
   "cell_type": "markdown",
   "metadata": {},
   "source": [
    "### <a id='3.2' href='#index'>3.2 Missing Values</a>"
   ]
  },
  {
   "cell_type": "code",
   "execution_count": null,
   "metadata": {},
   "outputs": [],
   "source": [
    "missing_values_table_bureau = missing_values_table(bureau)\n",
    "missing_values_table_bureau.head(20)"
   ]
  },
  {
   "cell_type": "code",
   "execution_count": null,
   "metadata": {},
   "outputs": [],
   "source": [
    "sns.distplot(missing_values_table_prev['% of Total Values'], kde = False, bins = 10)"
   ]
  },
  {
   "cell_type": "markdown",
   "metadata": {},
   "source": [
    "### <a id='3.3' href='#index'>3.3 Number of Previous Applications per User</a>"
   ]
  },
  {
   "cell_type": "code",
   "execution_count": null,
   "metadata": {},
   "outputs": [],
   "source": [
    "bureau_group = bureau.groupby('SK_ID_CURR')\n",
    "\n",
    "sns.distplot(bureau_group.count()['CREDIT_ACTIVE'])"
   ]
  },
  {
   "cell_type": "code",
   "execution_count": null,
   "metadata": {},
   "outputs": [],
   "source": [
    "bureau_group.count()['CREDIT_ACTIVE'].describe()"
   ]
  },
  {
   "cell_type": "markdown",
   "metadata": {},
   "source": [
    "Look at anomalies with 116 loans. "
   ]
  },
  {
   "cell_type": "code",
   "execution_count": null,
   "metadata": {},
   "outputs": [],
   "source": [
    "bureau_group.count()['CREDIT_ACTIVE'][bureau_group.count()['CREDIT_ACTIVE'] > 50]"
   ]
  },
  {
   "cell_type": "markdown",
   "metadata": {},
   "source": [
    "* Normally on average, people take 5 to 6 loans with standard deviation of 4.4ish. However, there are those who take out excessive amount of loans. These could become an identifier."
   ]
  },
  {
   "cell_type": "markdown",
   "metadata": {},
   "source": [
    "### <a id='3.4' href='#index'>3.4 CREDIT ACTIVE</a>"
   ]
  },
  {
   "cell_type": "markdown",
   "metadata": {},
   "source": [
    "* CREDIT_ACTIVE: Status of the Credit Bureau (CB) reported credits"
   ]
  },
  {
   "cell_type": "code",
   "execution_count": null,
   "metadata": {},
   "outputs": [],
   "source": [
    "print('Credit Active has ', bureau['CREDIT_ACTIVE'].nunique(), ' unique classes')\n",
    "print('Those classes are ', bureau['CREDIT_ACTIVE'].unique())"
   ]
  },
  {
   "cell_type": "code",
   "execution_count": null,
   "metadata": {},
   "outputs": [],
   "source": [
    "sns.countplot(bureau['CREDIT_ACTIVE'])"
   ]
  },
  {
   "cell_type": "code",
   "execution_count": null,
   "metadata": {},
   "outputs": [],
   "source": [
    "# number of Credit Active classes \n",
    "bureau.groupby('CREDIT_ACTIVE').sum()['SK_ID_CURR']"
   ]
  },
  {
   "cell_type": "markdown",
   "metadata": {},
   "source": [
    "* There aren't many Bad Debts in comparison to other classes, but it could be a meaningful feature."
   ]
  },
  {
   "cell_type": "markdown",
   "metadata": {},
   "source": [
    "### <a id='3.5' href='#index'>3.5 AMT_CREDIT_SUM</a>\n",
    "\n",
    "* AMT_CREDIT_SUM: Current credit amount for the Credit Bureau credit\n",
    "* AMT_CREDIT_SUM_DEBT: Current debt on Credit Bureau credit\n",
    "* AMT_CREDIT_SUM_LIMIT: Current credit limit of credit card reported in Credit Bureau\n",
    "* AMT_CREDIT_SUM_OVERDUE: Current amount overdue on Credit Bureau credit"
   ]
  },
  {
   "cell_type": "code",
   "execution_count": null,
   "metadata": {
    "scrolled": false
   },
   "outputs": [],
   "source": [
    "plt.figure(figsize = (12, 16))\n",
    "\n",
    "# iterate through the sources\n",
    "for i, source in enumerate(['AMT_CREDIT_SUM', 'AMT_CREDIT_SUM_DEBT', 'AMT_CREDIT_SUM_LIMIT', 'AMT_CREDIT_SUM_OVERDUE']):\n",
    "    # create a new subplot for each source\n",
    "    plt.subplot(4, 1, i + 1)\n",
    "    sns.kdeplot(bureau[source].dropna())\n",
    "    plt.title('Distribution of %s' % source)\n",
    "plt.figure(figsize=(12,4))"
   ]
  },
  {
   "cell_type": "markdown",
   "metadata": {},
   "source": [
    "## <a id='section4' href='#index'>Section 4: Limitation</a>\n",
    "\n",
    "The main limitation I face is computational cost. This will limit the following:\n",
    "- I won't include other three behavior datasets. Too much data.\n",
    "- I won't be using automated feature engineering library. (I will make attempts at manual feature engineering tho)\n"
   ]
  },
  {
   "cell_type": "markdown",
   "metadata": {},
   "source": [
    "## <a id='section5' href='#index'>Section 5: Feature Importance using Random Forest Model</a>\n",
    "\n",
    "Let's see what features seems important!\n",
    "\n",
    "This could also be considered baseline model. "
   ]
  },
  {
   "cell_type": "markdown",
   "metadata": {},
   "source": [
    "### <a id='5.1' href='#index'>5.1 Label Encoding and One-Hot Encoding</a>"
   ]
  },
  {
   "cell_type": "code",
   "execution_count": null,
   "metadata": {},
   "outputs": [],
   "source": [
    "from sklearn.preprocessing import LabelEncoder\n",
    "\n",
    "# Create a label encoder object\n",
    "le = LabelEncoder()\n",
    "le_count = 0\n",
    "\n",
    "# Iterate through the columns\n",
    "for col in app_train:\n",
    "    if app_train[col].dtype == 'object':\n",
    "        # If 2 or fewer unique categories\n",
    "        if len(list(app_train[col].unique())) <= 2:\n",
    "            # Train on the training data\n",
    "            le.fit(app_train[col])\n",
    "            # Transform both training and testing data\n",
    "            app_train[col] = le.transform(app_train[col])\n",
    "            app_test[col] = le.transform(app_test[col])\n",
    "            \n",
    "            # Keep track of how many columns were label encoded\n",
    "            le_count += 1"
   ]
  },
  {
   "cell_type": "code",
   "execution_count": null,
   "metadata": {},
   "outputs": [],
   "source": [
    "# one-hot encoding of categorical variables\n",
    "app_train = pd.get_dummies(app_train)\n",
    "app_test = pd.get_dummies(app_test)\n",
    "\n",
    "print('Training Features shape: ', app_train.shape)\n",
    "print('Testing Features shape: ', app_test.shape)"
   ]
  },
  {
   "cell_type": "code",
   "execution_count": null,
   "metadata": {},
   "outputs": [],
   "source": [
    "# Align Training and Test Data\n",
    "train_labels = app_train['TARGET']\n",
    "\n",
    "# Align the training and testing data, keep only columns present in both dataframes\n",
    "app_train, app_test = app_train.align(app_test, join = 'inner', axis = 1)\n",
    "\n",
    "# Add the target back in\n",
    "app_train['TARGET'] = train_labels\n",
    "\n",
    "print('Training Features shape: ', app_train.shape)\n",
    "print('Testing Features shape: ', app_test.shape)"
   ]
  },
  {
   "cell_type": "markdown",
   "metadata": {},
   "source": [
    "### <a id='5.2' href='#index'>5.2 Median Imputation and Scaling</a>"
   ]
  },
  {
   "cell_type": "code",
   "execution_count": null,
   "metadata": {},
   "outputs": [],
   "source": [
    "from sklearn.preprocessing import MinMaxScaler, Imputer\n",
    "\n",
    "# Drop the target from the training data\n",
    "if 'TARGET' in app_train:\n",
    "    train = app_train.drop(columns = ['TARGET'])\n",
    "else:\n",
    "    train = app_train.copy()\n",
    "    \n",
    "# Feature names\n",
    "features = list(train.columns)\n",
    "\n",
    "# Copy of the testing data\n",
    "test = app_test.copy()\n",
    "\n",
    "# Median imputation of missing values\n",
    "imputer = Imputer(strategy = 'median')\n",
    "\n",
    "# Scale each feature to 0-1\n",
    "scaler = MinMaxScaler(feature_range = (0, 1))\n",
    "\n",
    "# Fit on the training data\n",
    "imputer.fit(train)\n",
    "\n",
    "# Transform both training and testing data\n",
    "train = imputer.transform(train)\n",
    "test = imputer.transform(app_test)\n",
    "\n",
    "# Repeat with the scaler\n",
    "scaler.fit(train)\n",
    "train = scaler.transform(train)\n",
    "test = scaler.transform(test)\n",
    "\n",
    "print('Training data shape: ', train.shape)\n",
    "print('Testing data shape: ', test.shape)"
   ]
  },
  {
   "cell_type": "markdown",
   "metadata": {},
   "source": [
    "### <a id='5.3' href='#index'>5.3 Training the Model</a>"
   ]
  },
  {
   "cell_type": "code",
   "execution_count": null,
   "metadata": {},
   "outputs": [],
   "source": [
    "from sklearn.ensemble import RandomForestClassifier\n",
    "\n",
    "rf = RandomForestClassifier(n_estimators=100, max_depth=12, min_samples_leaf=20, max_features=0.2, random_state=929)\n",
    "\n",
    "rf.fit(train, train_labels)"
   ]
  },
  {
   "cell_type": "markdown",
   "metadata": {},
   "source": [
    "### <a id='5.4' href='#index'>5.4 Prediction and Feature Importance</a>"
   ]
  },
  {
   "cell_type": "code",
   "execution_count": null,
   "metadata": {},
   "outputs": [],
   "source": [
    "# get feature importances\n",
    "feature_importance_values = rf.feature_importances_\n",
    "feature_importances = pd.DataFrame({'feature': features, 'importance': feature_importance_values})\n",
    "feature_importances.set_index('feature', inplace=True)\n",
    "\n",
    "# Make predictions on the test data\n",
    "predictions = rf.predict_proba(test)[:, 1]"
   ]
  },
  {
   "cell_type": "code",
   "execution_count": null,
   "metadata": {
    "scrolled": false
   },
   "outputs": [],
   "source": [
    "feature_importances.sort_values(by='importance', axis = 0, ascending=False, inplace=True)\n",
    "\n",
    "plt.figure(figsize = (12, 44))\n",
    "plt.tight_layout()\n",
    "\n",
    "sns.barplot(x='importance', y=feature_importances.index, data=feature_importances)"
   ]
  },
  {
   "cell_type": "code",
   "execution_count": null,
   "metadata": {},
   "outputs": [],
   "source": [
    "# Make a submission dataframe\n",
    "submit = app_test[['SK_ID_CURR']]\n",
    "submit['TARGET'] = predictions\n",
    "\n",
    "# Save the submission dataframe\n",
    "submit.to_csv('random_forest_baseline.csv', index = False)"
   ]
  }
 ],
 "metadata": {
  "kernelspec": {
   "display_name": "Python 3",
   "language": "python",
   "name": "python3"
  },
  "language_info": {
   "codemirror_mode": {
    "name": "ipython",
    "version": 3
   },
   "file_extension": ".py",
   "mimetype": "text/x-python",
   "name": "python",
   "nbconvert_exporter": "python",
   "pygments_lexer": "ipython3",
   "version": "3.6.6"
  }
 },
 "nbformat": 4,
 "nbformat_minor": 2
}
